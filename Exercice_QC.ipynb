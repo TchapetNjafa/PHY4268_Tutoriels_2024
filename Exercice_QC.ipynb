{
 "cells": [
  {
   "cell_type": "markdown",
   "id": "9832a2c5-c104-4d97-839e-ff10bd402f9a",
   "metadata": {},
   "source": [
    "# Circuits quantiques avec Qiskit"
   ]
  },
  {
   "cell_type": "markdown",
   "id": "8aa2e636-8298-4d27-82e4-565cc15eadad",
   "metadata": {},
   "source": [
    "## Circuit quantique à 1 qubit et 1 bit cbit\n",
    "1. Définir un régistre quantique `q1` à un qubit;\n",
    "2. Définir également un registre classique `c1` à 1 cbit;\n",
    "3. Construire un circuit quantique `qc1` contenant `q1` et `c1`;\n",
    "4. Appliquer l'opérateur $\\mathbf{X}$ sur le qubit;\n",
    "5. Mesurer le qubit et stocker le résultat de mesure dans le cbit."
   ]
  },
  {
   "cell_type": "code",
   "execution_count": null,
   "id": "8f923132-90b8-4b9f-badc-fe3859d45d6c",
   "metadata": {},
   "outputs": [],
   "source": [
    "# Écrire votre code ici"
   ]
  },
  {
   "cell_type": "markdown",
   "id": "f8f469b6-f96e-48d1-9f7f-2c63e4a40dc0",
   "metadata": {},
   "source": [
    "6. Dessiner le circuit quantique en y affichant l'état initial."
   ]
  },
  {
   "cell_type": "code",
   "execution_count": null,
   "id": "5c34cd2d-ee57-4069-86a0-510f848df161",
   "metadata": {},
   "outputs": [],
   "source": [
    "# Écrire votre code ici"
   ]
  },
  {
   "cell_type": "markdown",
   "id": "84088167-0e3b-4fdf-ade8-e77157bbb583",
   "metadata": {},
   "source": [
    "7. Pour ce cicuit simple, on désire visualiser le résultat qu'obtiendrait le simulateur `AerSimulator`. Écrire le code permettant d'importer le nécessaire, puis de visualiser le résultat de mesure dans un histogramme pour 2000 shots."
   ]
  },
  {
   "cell_type": "code",
   "execution_count": null,
   "id": "a06c1f78-dabc-453f-9cbe-483b13d31a06",
   "metadata": {},
   "outputs": [],
   "source": [
    "# Écrire votre code ici"
   ]
  },
  {
   "cell_type": "markdown",
   "id": "00ca5f33-091b-432a-bb13-861a5bdd6108",
   "metadata": {},
   "source": [
    "## Circuit multi-qubits\n",
    "\n",
    "À présent, nous savons contruire un circuit quantique, l'afficher et effectuer une simulation en nous servant d'un simulateur sur ledit circuit. La tâche suivante consiste à construire un circuit quantique et d'y effectuer les opérations suivantes:\n",
    "1. Construction du circuit\n",
    "   - définir un registre quantique q2 de 4 qubits;\n",
    "   - définir un registre classique c2 de 4 bits;\n",
    "   - construire un circuit quantique `qc2` contenant `q2` et `c2`;\n",
    "   - appliquer la porte d'Hadamard le qubit d'indexe 2;\n",
    "   - appliquer pour chaque qubit d'indexe impaire la porte contrôlée $\\mathbf{CX}$ en prenant comme qubit de contrôle le qubit d'indexe 2;\n",
    "   - appliquer pour chaque qubit d'indexe paire la porte contrôlée $\\mathbf{CRY}$ en prenant comme qubit de contrôle le qubit d'indexe 2 à l'état $\\ket{0}$, l'angle devant être $\\pi/4$;\n",
    "   - sur chaque qubit, appliquer la porte $\\mathbf{U}$ avec $\\theta=\\pi/(indexe+1),\\,\\phi=\\pi/2$ et $\\lambda =\\pi/4$;\n",
    "   - appliquer la porte contrôlée $\\mathbf{CP}$ sur le premier et le dernier qubit, le dernier qubit et le qubit de contrôle et $\\lambda=\\pi/6$\n",
    "   - mesurer les qubits et stocker les resultats de mesure dans les cbits dans l'ordre inverse"
   ]
  },
  {
   "cell_type": "code",
   "execution_count": null,
   "id": "4ad0ba16-6883-42ef-8176-d170dfafc32a",
   "metadata": {},
   "outputs": [],
   "source": [
    "# Écrire votre code ici"
   ]
  },
  {
   "cell_type": "markdown",
   "id": "8d22f37f-cb40-4888-8566-52217d1dd3a1",
   "metadata": {},
   "source": [
    "2. Dessiner lecircuit"
   ]
  },
  {
   "cell_type": "code",
   "execution_count": null,
   "id": "273c68b8-6624-4562-9fe3-646307d44c70",
   "metadata": {},
   "outputs": [],
   "source": [
    "# Écrire votre code ici"
   ]
  },
  {
   "cell_type": "markdown",
   "id": "72743212-0c2e-4f33-83df-4fd8722143aa",
   "metadata": {},
   "source": [
    "3. Comme dans le cas précédent, écrire le code permettant d'importer le nécessaire, puis de visualiser le résultat de mesure dans un histogramme pour 2000 shots en utilisant `AerSimulator`."
   ]
  },
  {
   "cell_type": "code",
   "execution_count": null,
   "id": "0a63c7b7-82ec-4f25-b515-ede27e112b5a",
   "metadata": {},
   "outputs": [],
   "source": [
    "# Écrire votre code ici"
   ]
  },
  {
   "cell_type": "markdown",
   "id": "a88c6b6e-dad8-4fa4-82d3-9554d82cd955",
   "metadata": {},
   "source": [
    "4. À la suite de la mesure, quels sont les états les plus probables?\n",
    " - Votre réponse ici:"
   ]
  },
  {
   "cell_type": "markdown",
   "id": "58ddc9d3-4487-4bb4-9111-ecd0ff95b948",
   "metadata": {},
   "source": [
    "5. Reconstruire le circuit et mettre les résultats de mesure des qubits dans l'ordre dans les cbits,lancer la simulation et afficher l'histogramme.\n",
    "   - Quels sont les états les plus probables?\n",
    "   - Que peut-on conclure quand à la lecture du résultat?"
   ]
  },
  {
   "cell_type": "code",
   "execution_count": null,
   "id": "5f9db903-df1e-4b06-938d-d2c56bc35d67",
   "metadata": {},
   "outputs": [],
   "source": [
    "# Écrire votre code ici"
   ]
  }
 ],
 "metadata": {
  "kernelspec": {
   "display_name": "Python 3 (ipykernel)",
   "language": "python",
   "name": "python3"
  },
  "language_info": {
   "codemirror_mode": {
    "name": "ipython",
    "version": 3
   },
   "file_extension": ".py",
   "mimetype": "text/x-python",
   "name": "python",
   "nbconvert_exporter": "python",
   "pygments_lexer": "ipython3",
   "version": "3.10.12"
  }
 },
 "nbformat": 4,
 "nbformat_minor": 5
}
