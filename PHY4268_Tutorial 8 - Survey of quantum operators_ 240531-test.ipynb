{
 "cells": [
  {
   "attachments": {},
   "cell_type": "markdown",
   "metadata": {},
   "source": [
    "# PHY4268 Tutorial 8 - Survey of Qiskit Quantum Operators\n",
    "\n",
    " 1. **S. G. Nana Engo**, serge.nana-engo@facsciences-uy1.cm\n",
    "    * Department of Physics, Faculty of Science, University of Yaounde I\n",
    "1. **J-P. Tchapet Njafa**, jean-pierre.tchapet-njafa@univ-maroua.cm\n",
    "    * Department of Physics, Faculty of Science, University of Maroua\n",
    "       \n",
    "May 2024"
   ]
  },
  {
   "attachments": {},
   "cell_type": "markdown",
   "metadata": {
    "lang": "fr"
   },
   "source": [
    "Dans ce tutoriel, nous faisons la synthèse des différentes opérations disponibles dans Qiskit, à savoir:\n",
    "\n",
    "- Portes quantiques à un seul qubit\n",
    "- Portes quantiques multi-qubits\n",
    "- Mesures\n",
    "- Réinitialisation\n",
    "- Portes conditionnelles\n",
    "\n",
    "Nous allons également revoir comment utiliser les trois différents simulateurs :\n",
    "\n",
    "- UnitarySimulator\n",
    "- QasmSimulator\n",
    "- StatevectorSimulator"
   ]
  },
  {
   "cell_type": "code",
   "execution_count": 1,
   "metadata": {
    "execution": {
     "iopub.execute_input": "2024-06-05T11:56:42.199494Z",
     "iopub.status.busy": "2024-06-05T11:56:42.198929Z",
     "iopub.status.idle": "2024-06-05T11:56:42.754647Z",
     "shell.execute_reply": "2024-06-05T11:56:42.753461Z",
     "shell.execute_reply.started": "2024-06-05T11:56:42.199431Z"
    }
   },
   "outputs": [
    {
     "data": {
      "text/plain": [
       "'1.1.0'"
      ]
     },
     "execution_count": 1,
     "metadata": {},
     "output_type": "execute_result"
    }
   ],
   "source": [
    "import qiskit\n",
    "qiskit.__version__ "
   ]
  },
  {
   "attachments": {},
   "cell_type": "markdown",
   "metadata": {},
   "source": [
    "$\\newcommand{\\ket}[1]{|#1\\rangle}$"
   ]
  },
  {
   "cell_type": "code",
   "execution_count": 2,
   "metadata": {
    "ExecuteTime": {
     "end_time": "2021-07-31T05:10:07.863361Z",
     "start_time": "2021-07-31T05:10:06.401320Z"
    },
    "execution": {
     "iopub.execute_input": "2024-06-05T11:56:42.757445Z",
     "iopub.status.busy": "2024-06-05T11:56:42.756774Z",
     "iopub.status.idle": "2024-06-05T11:56:42.827311Z",
     "shell.execute_reply": "2024-06-05T11:56:42.826374Z",
     "shell.execute_reply.started": "2024-06-05T11:56:42.757391Z"
    }
   },
   "outputs": [],
   "source": [
    "from qiskit import QuantumCircuit, ClassicalRegister, QuantumRegister, transpile\n",
    "from qiskit.visualization import circuit_drawer, array_to_latex\n",
    "from qiskit_aer import UnitarySimulator, QasmSimulator"
   ]
  },
  {
   "cell_type": "code",
   "execution_count": 3,
   "metadata": {
    "execution": {
     "iopub.execute_input": "2024-06-05T11:56:42.829450Z",
     "iopub.status.busy": "2024-06-05T11:56:42.828832Z",
     "iopub.status.idle": "2024-06-05T11:56:42.936713Z",
     "shell.execute_reply": "2024-06-05T11:56:42.935725Z",
     "shell.execute_reply.started": "2024-06-05T11:56:42.829401Z"
    }
   },
   "outputs": [],
   "source": [
    "simulator = UnitarySimulator()"
   ]
  },
  {
   "attachments": {},
   "cell_type": "markdown",
   "metadata": {
    "lang": "fr"
   },
   "source": [
    "* Packages supplémentaires utiles"
   ]
  },
  {
   "cell_type": "code",
   "execution_count": 4,
   "metadata": {
    "ExecuteTime": {
     "end_time": "2021-07-31T05:10:06.399483Z",
     "start_time": "2021-07-31T05:10:06.113598Z"
    },
    "execution": {
     "iopub.execute_input": "2024-06-05T11:56:42.939140Z",
     "iopub.status.busy": "2024-06-05T11:56:42.938360Z",
     "iopub.status.idle": "2024-06-05T11:56:43.048268Z",
     "shell.execute_reply": "2024-06-05T11:56:43.047067Z",
     "shell.execute_reply.started": "2024-06-05T11:56:42.939091Z"
    }
   },
   "outputs": [],
   "source": [
    "import numpy as np\n",
    "from math import pi"
   ]
  },
  {
   "attachments": {},
   "cell_type": "markdown",
   "metadata": {
    "lang": "en"
   },
   "source": [
    "## États quantiques à un seul Qubit <a name=\"single_states\"/>\n",
    "\n",
    "Un état quantique d'un seul qubit peut être écrit comme\n",
    "$$\\ket{\\psi} = \\alpha\\ket{0} + \\beta \\ket{1},$$\n",
    "où $\\alpha$ et $\\beta$ sont des nombres complexes. Dans une mesure, la probabilité que le bit soit dans $\\ket{0}$ est $|\\alpha|^2$ et $\\ket{1}$ est $|\\beta|^2$. En tant que vecteur, c'est\n",
    "\n",
    "$$\n",
    "\\ket{\\psi} =  \n",
    "\\begin{pmatrix}\n",
    "\\alpha \\\\\n",
    "\\beta\n",
    "\\end{pmatrix}.\n",
    "$$\n",
    "\n",
    "Notez qu'en raison de la conservation de la probabilité $|\\alpha|^2+ |\\beta|^2 = 1$, et puisque la phase globale est indétectable $\\ket{\\psi} := e^{i\\delta} \\ket{\\psi}$, nous n'avons besoin que de deux nombres réels pour décrire un seul état quantique de qubit.\n",
    "\n",
    "Une représentation pratique est\n",
    "\n",
    "$$\\ket{\\psi} = \\cos(\\frac{\\theta}{2})\\ket{0} + \\sin(\\frac{\\theta}{2})e^{i\\phi}\\ket{1},$$\n",
    "\n",
    "où $0\\leq \\phi < 2\\pi$ et $0\\leq \\theta \\leq \\pi$. À partir de là, il est clair qu'il existe une correspondance biunivoque entre les états de qubit ($\\mathbb{C}^2$) et les points à la surface d'une sphère unitaire ($\\mathbb{R}^3$). C'est ce qu'on appelle la représentation de la sphère de Bloch d'un état qubit.\n",
    "\n",
    "Les portes/opérations quantiques sont généralement représentées sous forme de matrices. Une porte qui agit sur un qubit est représentée par une matrice unitaire $2\\times 2$ $\\mathtt{U}$. L'action de la porte quantique est trouvée en multipliant la matrice représentant la porte avec le vecteur qui représente l'état quantique.\n",
    "\n",
    "$$\\ket{\\psi'} = \\mathtt{U}\\ket{\\psi}$$\n",
    "\n",
    "Un unitaire général doit pouvoir amener le $\\ket{0}$ à l'état ci-dessus. C'est-à-dire\n",
    "\n",
    "$$\n",
    "\\mathtt{U} = \\begin{pmatrix}\n",
    "\\cos(\\frac{\\theta}{2}) & a \\\\\n",
    "e^{i\\phi}\\sin(\\frac{\\theta}{2}) & b \n",
    "\\end{pmatrix},\n",
    "$$\n",
    "\n",
    "où $a$ et $b$ sont des nombres complexes contraints tels que $\\mathtt{U}^\\dagger\\mathtt{U} =\\mathtt{I}$ pour tous $0\\leq\\theta\\leq\\pi$ et $0\\leq \\phi<2\\pi$. Cela donne 3 contraintes et ainsi $a\\rightarrow -e^{i\\lambda}\\sin(\\frac{\\theta}{2})$ et $b\\rightarrow e^{i\\lambda+i\\phi}\\cos(\\frac{\\theta}{2})$ où $0\\leq \\lambda<2\\pi$ donnant\n",
    "\n",
    "$$\n",
    "\\mathtt{U}(\\theta, \\phi, \\lambda) =\n",
    "    \\begin{pmatrix}\n",
    "        \\cos\\left(\\frac{\\theta}{2}\\right)          & -e^{i\\lambda}\\sin\\left(\\frac{\\theta}{2}\\right) \\\\\n",
    "        e^{i\\phi}\\sin\\left(\\frac{\\theta}{2}\\right) & e^{i(\\phi+\\lambda)}\\cos\\left(\\frac{\\theta}{2}\\right)\n",
    "    \\end{pmatrix}.\n",
    "$$\n",
    "\n",
    "C'est la forme la plus générale d'une porte quantique à un seul qubit unitaire."
   ]
  },
  {
   "attachments": {},
   "cell_type": "markdown",
   "metadata": {
    "lang": "fr"
   },
   "source": [
    "## Portes à un seul qubit <a name=\"single_gates\"/>\n",
    "\n",
    "Les portes à un seul qubit disponibles sont :\n",
    "- Porte en U\n",
    "- porte P\n",
    "- Porte d'identité\n",
    "- Portes Pauli\n",
    "- Portes Clifford\n",
    "- portes C3\n",
    "- Portes de rotation standard\n",
    "\n",
    "Nous avons fourni un backend : `unitary_simulator` pour vous permettre de calculer les matrices unitaires."
   ]
  },
  {
   "cell_type": "code",
   "execution_count": 5,
   "metadata": {
    "ExecuteTime": {
     "end_time": "2021-07-31T05:10:08.577924Z",
     "start_time": "2021-07-31T05:10:08.575044Z"
    },
    "execution": {
     "iopub.execute_input": "2024-06-05T11:56:43.050702Z",
     "iopub.status.busy": "2024-06-05T11:56:43.049852Z",
     "iopub.status.idle": "2024-06-05T11:56:43.208656Z",
     "shell.execute_reply": "2024-06-05T11:56:43.207338Z",
     "shell.execute_reply.started": "2024-06-05T11:56:43.050649Z"
    }
   },
   "outputs": [],
   "source": [
    "q = QuantumRegister(1)"
   ]
  },
  {
   "attachments": {},
   "cell_type": "markdown",
   "metadata": {
    "lang": "fr"
   },
   "source": [
    "### Porte U\n",
    "\n",
    "Dans Qiskit, nous avous accès à l'unité générale en utilisant la porte $\\mathtt{U}$, qui a la forme matricielle suivante\n",
    "$$\n",
    "\\mathtt{U}(\\theta, \\phi, \\lambda) =\n",
    "    \\begin{pmatrix}\n",
    "        \\cos\\left(\\frac{\\theta}{2}\\right)          & -e^{i\\lambda}\\sin\\left(\\frac{\\theta}{2}\\right) \\\\\n",
    "        e^{i\\phi}\\sin\\left(\\frac{\\theta}{2}\\right) & e^{i(\\phi+\\lambda)}\\cos\\left(\\frac{\\theta}{2}\\right)\n",
    "    \\end{pmatrix}\n",
    "$$"
   ]
  },
  {
   "cell_type": "code",
   "execution_count": 6,
   "metadata": {
    "ExecuteTime": {
     "end_time": "2021-07-31T05:10:09.406278Z",
     "start_time": "2021-07-31T05:10:09.398661Z"
    },
    "execution": {
     "iopub.execute_input": "2024-06-05T11:56:43.211662Z",
     "iopub.status.busy": "2024-06-05T11:56:43.210028Z",
     "iopub.status.idle": "2024-06-05T11:56:44.711670Z",
     "shell.execute_reply": "2024-06-05T11:56:44.710212Z",
     "shell.execute_reply.started": "2024-06-05T11:56:43.211623Z"
    }
   },
   "outputs": [
    {
     "data": {
      "image/png": "[encoded data removed]",
      "text/plain": [
       "<Figure size 287.294x117.056 with 1 Axes>"
      ]
     },
     "execution_count": 6,
     "metadata": {},
     "output_type": "execute_result"
    }
   ],
   "source": [
    "qc = QuantumCircuit(q)\n",
    "qc.u(pi/2,pi/4,pi/8,q[0])\n",
    "qc.draw('mpl')"
   ]
  },
  {
   "cell_type": "code",
   "execution_count": 7,
   "metadata": {
    "ExecuteTime": {
     "end_time": "2021-07-31T05:10:10.420628Z",
     "start_time": "2021-07-31T05:10:10.342207Z"
    },
    "execution": {
     "iopub.execute_input": "2024-06-05T11:56:44.714699Z",
     "iopub.status.busy": "2024-06-05T11:56:44.714038Z",
     "iopub.status.idle": "2024-06-05T11:56:49.871006Z",
     "shell.execute_reply": "2024-06-05T11:56:49.869674Z",
     "shell.execute_reply.started": "2024-06-05T11:56:44.714648Z"
    }
   },
   "outputs": [
    {
     "data": {
      "text/latex": [
       "$$\n",
       "\n",
       "\\begin{bmatrix}\n",
       "0.707 & -0.653 - 0.271 i  \\\\\n",
       " \\frac{1}{2} + \\frac{i}{2} & 0.271 + 0.653 i  \\\\\n",
       " \\end{bmatrix}\n",
       "$$"
      ],
      "text/plain": [
       "<IPython.core.display.Latex object>"
      ]
     },
     "execution_count": 7,
     "metadata": {},
     "output_type": "execute_result"
    }
   ],
   "source": [
    "job = simulator.run(transpile(qc, simulator))\n",
    "array_to_latex(job.result().get_unitary(qc, decimals=3))"
   ]
  },
  {
   "attachments": {},
   "cell_type": "markdown",
   "metadata": {
    "lang": "fr"
   },
   "source": [
    "<div class=\"alert alert-info\">\n",
    "Remarque sur la dépréciation de la porte U. \n",
    "\n",
    "Les méthodes QuantumCircuit $u1$, $u2$ et $u3$ sont désormais obsolètes. Au lieu de cela, les remplacements suivants doivent être utilisés.\n",
    "</div>\n",
    "\n",
    "- $u1(\\lambda) = p(\\lambda) = u(0, 0, \\lambda)$\n",
    "\n",
    "- $u2(\\phi, \\lambda) = u(\\frac{\\pi}{2}, \\phi, \\lambda) = p(\\frac{\\pi}{2} + \\phi) \\cdot sx \\cdot p(\\frac{\\pi}{2} - \\lambda)$\n",
    "\n",
    "- $u3(\\theta, \\phi, \\lambda) = u(\\theta, \\phi, \\lambda) = p(\\phi + \\pi) \\cdot sx \\cdot p(\\theta + \\pi) \\cdot sx \\cdot p(\\lambda)$\n",
    "\n",
    "```python\n",
    "# qc.u1(lambda) est maintenant :\n",
    "qc.p(lambda)\n",
    "\n",
    "# qc.u2(phi, lambda) est maintenant :\n",
    "qc.u(pi/2, phi, lambda)\n",
    "\n",
    "# qc.u3(theta, phi, lambda) est maintenant :\n",
    "qc.u(theta, phi, lambda)\n",
    "```"
   ]
  },
  {
   "attachments": {},
   "cell_type": "markdown",
   "metadata": {
    "lang": "fr"
   },
   "source": [
    "### Porte P\n",
    "\n",
    "Pour appliquer une phase quantique, on utilise la porte $p(\\lambda)= u(0, 0, \\lambda)$ dont la forme matricielle est\n",
    "\n",
    "$$\n",
    "p(\\lambda) = \n",
    "\\begin{pmatrix}\n",
    "1 & 0 \\\\\n",
    "0 & e^{i \\lambda}\n",
    "\\end{pmatrix}.$$"
   ]
  },
  {
   "cell_type": "code",
   "execution_count": 8,
   "metadata": {
    "ExecuteTime": {
     "end_time": "2021-07-31T05:10:51.997454Z",
     "start_time": "2021-07-31T05:10:51.992620Z"
    },
    "execution": {
     "iopub.execute_input": "2024-06-05T11:56:49.873863Z",
     "iopub.status.busy": "2024-06-05T11:56:49.872684Z",
     "iopub.status.idle": "2024-06-05T11:56:50.035357Z",
     "shell.execute_reply": "2024-06-05T11:56:50.034351Z",
     "shell.execute_reply.started": "2024-06-05T11:56:49.873810Z"
    }
   },
   "outputs": [
    {
     "data": {
      "image/png": "[encoded data removed]",
      "text/plain": [
       "<Figure size 203.683x117.056 with 1 Axes>"
      ]
     },
     "execution_count": 8,
     "metadata": {},
     "output_type": "execute_result"
    }
   ],
   "source": [
    "qc = QuantumCircuit(q)\n",
    "qc.p(pi/2,q)\n",
    "qc.draw('mpl')"
   ]
  },
  {
   "cell_type": "code",
   "execution_count": 9,
   "metadata": {
    "ExecuteTime": {
     "end_time": "2021-07-31T05:10:58.149042Z",
     "start_time": "2021-07-31T05:10:58.138158Z"
    },
    "execution": {
     "iopub.execute_input": "2024-06-05T11:56:50.037710Z",
     "iopub.status.busy": "2024-06-05T11:56:50.037258Z",
     "iopub.status.idle": "2024-06-05T11:56:50.074315Z",
     "shell.execute_reply": "2024-06-05T11:56:50.073102Z",
     "shell.execute_reply.started": "2024-06-05T11:56:50.037679Z"
    }
   },
   "outputs": [
    {
     "data": {
      "text/latex": [
       "$$\n",
       "\n",
       "\\begin{bmatrix}\n",
       "1 & 0  \\\\\n",
       " 0 & i  \\\\\n",
       " \\end{bmatrix}\n",
       "$$"
      ],
      "text/plain": [
       "<IPython.core.display.Latex object>"
      ]
     },
     "execution_count": 9,
     "metadata": {},
     "output_type": "execute_result"
    }
   ],
   "source": [
    "job = simulator.run(transpile(qc, simulator))\n",
    "array_to_latex(job.result().get_unitary(qc, decimals=3))"
   ]
  },
  {
   "attachments": {},
   "cell_type": "markdown",
   "metadata": {
    "lang": "fr"
   },
   "source": [
    "### Porte d'identité\n",
    "\n",
    "La porte d'identité est $\\mathtt{I} = p(0)$."
   ]
  },
  {
   "cell_type": "code",
   "execution_count": 10,
   "metadata": {
    "ExecuteTime": {
     "end_time": "2021-07-31T05:11:00.799001Z",
     "start_time": "2021-07-31T05:11:00.794172Z"
    },
    "execution": {
     "iopub.execute_input": "2024-06-05T11:56:50.077026Z",
     "iopub.status.busy": "2024-06-05T11:56:50.076379Z",
     "iopub.status.idle": "2024-06-05T11:56:50.325097Z",
     "shell.execute_reply": "2024-06-05T11:56:50.324010Z",
     "shell.execute_reply.started": "2024-06-05T11:56:50.076975Z"
    }
   },
   "outputs": [
    {
     "data": {
      "image/png": "[encoded data removed]",
      "text/plain": [
       "<Figure size 203.683x117.056 with 1 Axes>"
      ]
     },
     "execution_count": 10,
     "metadata": {},
     "output_type": "execute_result"
    }
   ],
   "source": [
    "qc = QuantumCircuit(q)\n",
    "qc.id(q)\n",
    "qc.draw('mpl')"
   ]
  },
  {
   "cell_type": "code",
   "execution_count": 11,
   "metadata": {
    "ExecuteTime": {
     "end_time": "2021-07-31T05:11:03.627749Z",
     "start_time": "2021-07-31T05:11:03.619164Z"
    },
    "execution": {
     "iopub.execute_input": "2024-06-05T11:56:50.327121Z",
     "iopub.status.busy": "2024-06-05T11:56:50.326477Z",
     "iopub.status.idle": "2024-06-05T11:56:50.360332Z",
     "shell.execute_reply": "2024-06-05T11:56:50.359281Z",
     "shell.execute_reply.started": "2024-06-05T11:56:50.327086Z"
    }
   },
   "outputs": [
    {
     "data": {
      "text/latex": [
       "$$\n",
       "\n",
       "\\begin{bmatrix}\n",
       "1 & 0  \\\\\n",
       " 0 & 1  \\\\\n",
       " \\end{bmatrix}\n",
       "$$"
      ],
      "text/plain": [
       "<IPython.core.display.Latex object>"
      ]
     },
     "execution_count": 11,
     "metadata": {},
     "output_type": "execute_result"
    }
   ],
   "source": [
    "job = simulator.run(transpile(qc, simulator))\n",
    "array_to_latex(job.result().get_unitary(qc, decimals=3))"
   ]
  },
  {
   "attachments": {},
   "cell_type": "markdown",
   "metadata": {
    "lang": "fr"
   },
   "source": [
    "### Portes Pauli\n",
    "\n",
    "#### $\\mathtt{X}$ : porte bit-flip \n",
    "\n",
    "La porte bit-flip $\\mathtt{X}$ est définie comme suit :\n",
    "\n",
    "$$\n",
    "\\mathtt{X}   =  \n",
    "\\begin{pmatrix}\n",
    "0 & 1\\\\\n",
    "1 & 0\n",
    "\\end{pmatrix}= u(\\pi,0,\\pi).\n",
    "$$"
   ]
  },
  {
   "cell_type": "code",
   "execution_count": 12,
   "metadata": {
    "ExecuteTime": {
     "end_time": "2021-07-31T05:11:05.287138Z",
     "start_time": "2021-07-31T05:11:05.281859Z"
    },
    "execution": {
     "iopub.execute_input": "2024-06-05T11:56:50.362495Z",
     "iopub.status.busy": "2024-06-05T11:56:50.361859Z",
     "iopub.status.idle": "2024-06-05T11:56:50.605404Z",
     "shell.execute_reply": "2024-06-05T11:56:50.604146Z",
     "shell.execute_reply.started": "2024-06-05T11:56:50.362445Z"
    }
   },
   "outputs": [
    {
     "data": {
      "image/png": "[encoded data removed]",
      "text/plain": [
       "<Figure size 203.683x117.056 with 1 Axes>"
      ]
     },
     "execution_count": 12,
     "metadata": {},
     "output_type": "execute_result"
    }
   ],
   "source": [
    "qc = QuantumCircuit(q)\n",
    "qc.x(q)\n",
    "qc.draw('mpl')"
   ]
  },
  {
   "cell_type": "code",
   "execution_count": 13,
   "metadata": {
    "ExecuteTime": {
     "end_time": "2021-07-31T05:11:07.285569Z",
     "start_time": "2021-07-31T05:11:07.276242Z"
    },
    "execution": {
     "iopub.execute_input": "2024-06-05T11:56:50.608051Z",
     "iopub.status.busy": "2024-06-05T11:56:50.607485Z",
     "iopub.status.idle": "2024-06-05T11:56:50.660218Z",
     "shell.execute_reply": "2024-06-05T11:56:50.659196Z",
     "shell.execute_reply.started": "2024-06-05T11:56:50.607999Z"
    }
   },
   "outputs": [
    {
     "data": {
      "text/latex": [
       "$$\n",
       "\n",
       "\\begin{bmatrix}\n",
       "0 & 1  \\\\\n",
       " 1 & 0  \\\\\n",
       " \\end{bmatrix}\n",
       "$$"
      ],
      "text/plain": [
       "<IPython.core.display.Latex object>"
      ]
     },
     "execution_count": 13,
     "metadata": {},
     "output_type": "execute_result"
    }
   ],
   "source": [
    "job = simulator.run(transpile(qc, simulator))\n",
    "array_to_latex(job.result().get_unitary(qc, decimals=3))"
   ]
  },
  {
   "attachments": {},
   "cell_type": "markdown",
   "metadata": {},
   "source": [
    "#### $\\mathtt{Y}$: Porte bit- and phase-flip\n",
    "\n",
    "La porte $\\mathtt{Y}$ est définie comme suit:\n",
    "\n",
    "$$\n",
    "\\mathtt{Y}  = \n",
    "\\begin{pmatrix}\n",
    "0 & -i\\\\\n",
    "i & 0\n",
    "\\end{pmatrix}=u(\\pi,\\pi/2,\\pi/2).\n",
    "$$"
   ]
  },
  {
   "cell_type": "code",
   "execution_count": 14,
   "metadata": {
    "ExecuteTime": {
     "end_time": "2021-07-31T05:11:09.274252Z",
     "start_time": "2021-07-31T05:11:09.270141Z"
    },
    "execution": {
     "iopub.execute_input": "2024-06-05T11:56:50.662059Z",
     "iopub.status.busy": "2024-06-05T11:56:50.661518Z",
     "iopub.status.idle": "2024-06-05T11:56:50.906027Z",
     "shell.execute_reply": "2024-06-05T11:56:50.904882Z",
     "shell.execute_reply.started": "2024-06-05T11:56:50.662018Z"
    }
   },
   "outputs": [
    {
     "data": {
      "image/png": "[encoded data removed]",
      "text/plain": [
       "<Figure size 203.683x117.056 with 1 Axes>"
      ]
     },
     "execution_count": 14,
     "metadata": {},
     "output_type": "execute_result"
    }
   ],
   "source": [
    "qc = QuantumCircuit(q)\n",
    "qc.y(q)\n",
    "qc.draw('mpl')"
   ]
  },
  {
   "cell_type": "code",
   "execution_count": 15,
   "metadata": {
    "ExecuteTime": {
     "end_time": "2021-07-31T05:11:11.878524Z",
     "start_time": "2021-07-31T05:11:11.868931Z"
    },
    "execution": {
     "iopub.execute_input": "2024-06-05T11:56:50.908808Z",
     "iopub.status.busy": "2024-06-05T11:56:50.907921Z",
     "iopub.status.idle": "2024-06-05T11:56:50.954040Z",
     "shell.execute_reply": "2024-06-05T11:56:50.952878Z",
     "shell.execute_reply.started": "2024-06-05T11:56:50.908752Z"
    }
   },
   "outputs": [
    {
     "data": {
      "text/latex": [
       "$$\n",
       "\n",
       "\\begin{bmatrix}\n",
       "0 & - i  \\\\\n",
       " i & 0  \\\\\n",
       " \\end{bmatrix}\n",
       "$$"
      ],
      "text/plain": [
       "<IPython.core.display.Latex object>"
      ]
     },
     "execution_count": 15,
     "metadata": {},
     "output_type": "execute_result"
    }
   ],
   "source": [
    "job = simulator.run(transpile(qc, simulator))\n",
    "array_to_latex(job.result().get_unitary(qc, decimals=3))"
   ]
  },
  {
   "attachments": {},
   "cell_type": "markdown",
   "metadata": {},
   "source": [
    "#### $\\mathtt{Z}$: Porte phase-flip \n",
    "\n",
    "La porte $\\mathtt{Z}$ est définie comme suit:\n",
    "$$\n",
    "\\mathtt{Z} = \\begin{pmatrix}\n",
    "1 & 0\\\\\n",
    "0 & -1\n",
    "\\end{pmatrix}=p(\\pi).\n",
    "$$"
   ]
  },
  {
   "cell_type": "code",
   "execution_count": 16,
   "metadata": {
    "ExecuteTime": {
     "end_time": "2021-07-31T05:11:13.903719Z",
     "start_time": "2021-07-31T05:11:13.898408Z"
    },
    "execution": {
     "iopub.execute_input": "2024-06-05T11:56:50.957000Z",
     "iopub.status.busy": "2024-06-05T11:56:50.955979Z",
     "iopub.status.idle": "2024-06-05T11:56:51.191911Z",
     "shell.execute_reply": "2024-06-05T11:56:51.190755Z",
     "shell.execute_reply.started": "2024-06-05T11:56:50.956944Z"
    }
   },
   "outputs": [
    {
     "data": {
      "image/png": "[encoded data removed]",
      "text/plain": [
       "<Figure size 203.683x117.056 with 1 Axes>"
      ]
     },
     "execution_count": 16,
     "metadata": {},
     "output_type": "execute_result"
    }
   ],
   "source": [
    "qc = QuantumCircuit(q)\n",
    "qc.z(q)\n",
    "qc.draw('mpl')"
   ]
  },
  {
   "cell_type": "code",
   "execution_count": 17,
   "metadata": {
    "ExecuteTime": {
     "end_time": "2021-07-31T05:11:17.430999Z",
     "start_time": "2021-07-31T05:11:17.420906Z"
    },
    "execution": {
     "iopub.execute_input": "2024-06-05T11:56:51.202851Z",
     "iopub.status.busy": "2024-06-05T11:56:51.202360Z",
     "iopub.status.idle": "2024-06-05T11:56:51.238480Z",
     "shell.execute_reply": "2024-06-05T11:56:51.237258Z",
     "shell.execute_reply.started": "2024-06-05T11:56:51.202804Z"
    }
   },
   "outputs": [
    {
     "data": {
      "text/latex": [
       "$$\n",
       "\n",
       "\\begin{bmatrix}\n",
       "1 & 0  \\\\\n",
       " 0 & -1  \\\\\n",
       " \\end{bmatrix}\n",
       "$$"
      ],
      "text/plain": [
       "<IPython.core.display.Latex object>"
      ]
     },
     "execution_count": 17,
     "metadata": {},
     "output_type": "execute_result"
    }
   ],
   "source": [
    "job = simulator.run(transpile(qc, simulator))\n",
    "array_to_latex(job.result().get_unitary(qc, decimals=3))"
   ]
  },
  {
   "attachments": {},
   "cell_type": "markdown",
   "metadata": {},
   "source": [
    "### Portes de Clifford \n",
    "\n",
    "#### Porte Hadamard \n",
    "\n",
    "$$\n",
    "\\mathtt{H} = \n",
    "\\frac{1}{\\sqrt{2}}\n",
    "\\begin{pmatrix}\n",
    "1 & 1\\\\\n",
    "1 & -1\n",
    "\\end{pmatrix}= u(\\pi/2,0,\\pi).\n",
    "$$"
   ]
  },
  {
   "cell_type": "code",
   "execution_count": 18,
   "metadata": {
    "ExecuteTime": {
     "end_time": "2021-07-31T05:11:24.374244Z",
     "start_time": "2021-07-31T05:11:24.369684Z"
    },
    "execution": {
     "iopub.execute_input": "2024-06-05T11:56:51.240224Z",
     "iopub.status.busy": "2024-06-05T11:56:51.239760Z",
     "iopub.status.idle": "2024-06-05T11:56:51.480527Z",
     "shell.execute_reply": "2024-06-05T11:56:51.479481Z",
     "shell.execute_reply.started": "2024-06-05T11:56:51.240192Z"
    }
   },
   "outputs": [
    {
     "data": {
      "image/png": "[encoded data removed]",
      "text/plain": [
       "<Figure size 203.683x117.056 with 1 Axes>"
      ]
     },
     "execution_count": 18,
     "metadata": {},
     "output_type": "execute_result"
    }
   ],
   "source": [
    "qc = QuantumCircuit(q)\n",
    "qc.h(q)\n",
    "qc.draw('mpl')"
   ]
  },
  {
   "cell_type": "code",
   "execution_count": 19,
   "metadata": {
    "ExecuteTime": {
     "end_time": "2021-07-31T05:11:24.964793Z",
     "start_time": "2021-07-31T05:11:24.956019Z"
    },
    "execution": {
     "iopub.execute_input": "2024-06-05T11:56:51.482545Z",
     "iopub.status.busy": "2024-06-05T11:56:51.481910Z",
     "iopub.status.idle": "2024-06-05T11:56:51.611064Z",
     "shell.execute_reply": "2024-06-05T11:56:51.610099Z",
     "shell.execute_reply.started": "2024-06-05T11:56:51.482510Z"
    }
   },
   "outputs": [
    {
     "data": {
      "text/latex": [
       "$$\n",
       "\n",
       "\\begin{bmatrix}\n",
       "0.707 & 0.707  \\\\\n",
       " 0.707 & -0.707  \\\\\n",
       " \\end{bmatrix}\n",
       "$$"
      ],
      "text/plain": [
       "<IPython.core.display.Latex object>"
      ]
     },
     "execution_count": 19,
     "metadata": {},
     "output_type": "execute_result"
    }
   ],
   "source": [
    "job = simulator.run(transpile(qc, simulator))\n",
    "array_to_latex(job.result().get_unitary(qc, decimals=3))"
   ]
  },
  {
   "attachments": {},
   "cell_type": "markdown",
   "metadata": {},
   "source": [
    "#### Porte $S$ (ou, $\\sqrt{Z}$ phase) \n",
    "\n",
    "$$\n",
    "S = \n",
    "\\begin{pmatrix}\n",
    "1 & 0\\\\\n",
    "0 & i\n",
    "\\end{pmatrix}= p(\\pi/2).\n",
    "$$"
   ]
  },
  {
   "cell_type": "code",
   "execution_count": 20,
   "metadata": {
    "ExecuteTime": {
     "end_time": "2021-07-31T05:11:27.577029Z",
     "start_time": "2021-07-31T05:11:27.572229Z"
    },
    "execution": {
     "iopub.execute_input": "2024-06-05T11:56:51.613588Z",
     "iopub.status.busy": "2024-06-05T11:56:51.612590Z",
     "iopub.status.idle": "2024-06-05T11:56:51.780069Z",
     "shell.execute_reply": "2024-06-05T11:56:51.778860Z",
     "shell.execute_reply.started": "2024-06-05T11:56:51.613532Z"
    }
   },
   "outputs": [
    {
     "data": {
      "image/png": "[encoded data removed]",
      "text/plain": [
       "<Figure size 203.683x117.056 with 1 Axes>"
      ]
     },
     "execution_count": 20,
     "metadata": {},
     "output_type": "execute_result"
    }
   ],
   "source": [
    "qc = QuantumCircuit(q)\n",
    "qc.s(q)\n",
    "qc.draw('mpl')"
   ]
  },
  {
   "cell_type": "code",
   "execution_count": 21,
   "metadata": {
    "ExecuteTime": {
     "end_time": "2021-07-31T05:11:30.150288Z",
     "start_time": "2021-07-31T05:11:30.141012Z"
    },
    "execution": {
     "iopub.execute_input": "2024-06-05T11:56:51.782639Z",
     "iopub.status.busy": "2024-06-05T11:56:51.781738Z",
     "iopub.status.idle": "2024-06-05T11:56:51.825750Z",
     "shell.execute_reply": "2024-06-05T11:56:51.824624Z",
     "shell.execute_reply.started": "2024-06-05T11:56:51.782581Z"
    }
   },
   "outputs": [
    {
     "data": {
      "text/latex": [
       "$$\n",
       "\n",
       "\\begin{bmatrix}\n",
       "1 & 0  \\\\\n",
       " 0 & i  \\\\\n",
       " \\end{bmatrix}\n",
       "$$"
      ],
      "text/plain": [
       "<IPython.core.display.Latex object>"
      ]
     },
     "execution_count": 21,
     "metadata": {},
     "output_type": "execute_result"
    }
   ],
   "source": [
    "job = simulator.run(transpile(qc, simulator))\n",
    "array_to_latex(job.result().get_unitary(qc, decimals=3))"
   ]
  },
  {
   "attachments": {},
   "cell_type": "markdown",
   "metadata": {},
   "source": [
    "#### $S^{\\dagger}$ (ou, conjugué de phase $\\sqrt{Z}$) \n",
    "\n",
    "$$\n",
    "S^{\\dagger} = \n",
    "\\begin{pmatrix}\n",
    "1 & 0\\\\\n",
    "0 & -i\n",
    "\\end{pmatrix}= p(-\\pi/2).\n",
    "$$\n"
   ]
  },
  {
   "cell_type": "code",
   "execution_count": 22,
   "metadata": {
    "ExecuteTime": {
     "end_time": "2021-07-31T05:11:31.674786Z",
     "start_time": "2021-07-31T05:11:31.669677Z"
    },
    "execution": {
     "iopub.execute_input": "2024-06-05T11:56:51.827955Z",
     "iopub.status.busy": "2024-06-05T11:56:51.827314Z",
     "iopub.status.idle": "2024-06-05T11:56:52.111400Z",
     "shell.execute_reply": "2024-06-05T11:56:52.110203Z",
     "shell.execute_reply.started": "2024-06-05T11:56:51.827903Z"
    }
   },
   "outputs": [
    {
     "data": {
      "image/png": "[encoded data removed]",
      "text/plain": [
       "<Figure size 203.683x117.056 with 1 Axes>"
      ]
     },
     "execution_count": 22,
     "metadata": {},
     "output_type": "execute_result"
    }
   ],
   "source": [
    "qc = QuantumCircuit(q)\n",
    "qc.sdg(q)\n",
    "qc.draw('mpl')"
   ]
  },
  {
   "cell_type": "code",
   "execution_count": 23,
   "metadata": {
    "ExecuteTime": {
     "end_time": "2021-07-31T05:11:34.228098Z",
     "start_time": "2021-07-31T05:11:34.218323Z"
    },
    "execution": {
     "iopub.execute_input": "2024-06-05T11:56:52.113318Z",
     "iopub.status.busy": "2024-06-05T11:56:52.112876Z",
     "iopub.status.idle": "2024-06-05T11:56:52.146552Z",
     "shell.execute_reply": "2024-06-05T11:56:52.145397Z",
     "shell.execute_reply.started": "2024-06-05T11:56:52.113285Z"
    }
   },
   "outputs": [
    {
     "data": {
      "text/latex": [
       "$$\n",
       "\n",
       "\\begin{bmatrix}\n",
       "1 & 0  \\\\\n",
       " 0 & - i  \\\\\n",
       " \\end{bmatrix}\n",
       "$$"
      ],
      "text/plain": [
       "<IPython.core.display.Latex object>"
      ]
     },
     "execution_count": 23,
     "metadata": {},
     "output_type": "execute_result"
    }
   ],
   "source": [
    "job = simulator.run(transpile(qc, simulator))\n",
    "array_to_latex(job.result().get_unitary(qc, decimals=3))"
   ]
  },
  {
   "attachments": {},
   "cell_type": "markdown",
   "metadata": {},
   "source": [
    "### Portes $C3$ \n",
    "#### $T$ (ou Porte $\\sqrt{S}$ phase) \n",
    "\n",
    "$$\n",
    "T = \n",
    "\\begin{pmatrix}\n",
    "1 & 0\\\\\n",
    "0 & e^{i \\pi/4}\n",
    "\\end{pmatrix}= p(\\pi/4) .\n",
    "$$"
   ]
  },
  {
   "cell_type": "code",
   "execution_count": 24,
   "metadata": {
    "ExecuteTime": {
     "end_time": "2021-07-31T05:11:35.573569Z",
     "start_time": "2021-07-31T05:11:35.568858Z"
    },
    "execution": {
     "iopub.execute_input": "2024-06-05T11:56:52.148878Z",
     "iopub.status.busy": "2024-06-05T11:56:52.148223Z",
     "iopub.status.idle": "2024-06-05T11:56:52.344040Z",
     "shell.execute_reply": "2024-06-05T11:56:52.342821Z",
     "shell.execute_reply.started": "2024-06-05T11:56:52.148825Z"
    }
   },
   "outputs": [
    {
     "data": {
      "image/png": "[encoded data removed]",
      "text/plain": [
       "<Figure size 203.683x117.056 with 1 Axes>"
      ]
     },
     "execution_count": 24,
     "metadata": {},
     "output_type": "execute_result"
    }
   ],
   "source": [
    "qc = QuantumCircuit(q)\n",
    "qc.t(q)\n",
    "qc.draw('mpl')"
   ]
  },
  {
   "cell_type": "code",
   "execution_count": 25,
   "metadata": {
    "ExecuteTime": {
     "end_time": "2021-07-31T05:11:38.030353Z",
     "start_time": "2021-07-31T05:11:38.020798Z"
    },
    "execution": {
     "iopub.execute_input": "2024-06-05T11:56:52.347066Z",
     "iopub.status.busy": "2024-06-05T11:56:52.345678Z",
     "iopub.status.idle": "2024-06-05T11:56:52.402672Z",
     "shell.execute_reply": "2024-06-05T11:56:52.401514Z",
     "shell.execute_reply.started": "2024-06-05T11:56:52.347011Z"
    }
   },
   "outputs": [
    {
     "data": {
      "text/latex": [
       "$$\n",
       "\n",
       "\\begin{bmatrix}\n",
       "1 & 0  \\\\\n",
       " 0 & 0.707 + 0.707 i  \\\\\n",
       " \\end{bmatrix}\n",
       "$$"
      ],
      "text/plain": [
       "<IPython.core.display.Latex object>"
      ]
     },
     "execution_count": 25,
     "metadata": {},
     "output_type": "execute_result"
    }
   ],
   "source": [
    "job = simulator.run(transpile(qc, simulator))\n",
    "array_to_latex(job.result().get_unitary(qc, decimals=3))"
   ]
  },
  {
   "attachments": {},
   "cell_type": "markdown",
   "metadata": {},
   "source": [
    "#### $T^{\\dagger}$ (ou, porte conjugué $\\sqrt{S}$ phase) \n",
    "\n",
    "$$\n",
    "T^{\\dagger} =  \n",
    "\\begin{pmatrix}\n",
    "1 & 0\\\\\n",
    "0 & e^{-i \\pi/4}\n",
    "\\end{pmatrix}= p(-\\pi/4).\n",
    "$$"
   ]
  },
  {
   "cell_type": "code",
   "execution_count": 26,
   "metadata": {
    "ExecuteTime": {
     "end_time": "2021-07-31T05:11:39.747528Z",
     "start_time": "2021-07-31T05:11:39.742799Z"
    },
    "execution": {
     "iopub.execute_input": "2024-06-05T11:56:52.405254Z",
     "iopub.status.busy": "2024-06-05T11:56:52.404602Z",
     "iopub.status.idle": "2024-06-05T11:56:52.680309Z",
     "shell.execute_reply": "2024-06-05T11:56:52.679105Z",
     "shell.execute_reply.started": "2024-06-05T11:56:52.405202Z"
    }
   },
   "outputs": [
    {
     "data": {
      "image/png": "[encoded data removed]",
      "text/plain": [
       "<Figure size 203.683x117.056 with 1 Axes>"
      ]
     },
     "execution_count": 26,
     "metadata": {},
     "output_type": "execute_result"
    }
   ],
   "source": [
    "qc = QuantumCircuit(q)\n",
    "qc.tdg(q)\n",
    "qc.draw('mpl')"
   ]
  },
  {
   "cell_type": "code",
   "execution_count": 27,
   "metadata": {
    "ExecuteTime": {
     "end_time": "2021-07-31T05:11:43.129450Z",
     "start_time": "2021-07-31T05:11:43.119304Z"
    },
    "execution": {
     "iopub.execute_input": "2024-06-05T11:56:52.682921Z",
     "iopub.status.busy": "2024-06-05T11:56:52.681820Z",
     "iopub.status.idle": "2024-06-05T11:56:52.738717Z",
     "shell.execute_reply": "2024-06-05T11:56:52.737717Z",
     "shell.execute_reply.started": "2024-06-05T11:56:52.682864Z"
    }
   },
   "outputs": [
    {
     "data": {
      "text/latex": [
       "$$\n",
       "\n",
       "\\begin{bmatrix}\n",
       "1 & 0  \\\\\n",
       " 0 & 0.707 - 0.707 i  \\\\\n",
       " \\end{bmatrix}\n",
       "$$"
      ],
      "text/plain": [
       "<IPython.core.display.Latex object>"
      ]
     },
     "execution_count": 27,
     "metadata": {},
     "output_type": "execute_result"
    }
   ],
   "source": [
    "job = simulator.run(transpile(qc, simulator))\n",
    "array_to_latex(job.result().get_unitary(qc, decimals=3))"
   ]
  },
  {
   "attachments": {},
   "cell_type": "markdown",
   "metadata": {},
   "source": [
    "###  Rotations Standard\n",
    "\n",
    "Les portes de rotation standard rotation sont celles qui definissent les rotations autour des  Paulis $P=\\{\\mathtt{X},\\mathtt{Y},\\mathtt{Z}\\}$. Elles sont définies comme\n",
    "$$ \\mathtt{R}_P(\\theta) = \\exp(-i \\theta P/2) = \\cos(\\theta/2)\\mathtt{I} -i \\sin(\\theta/2)P$$\n",
    "\n",
    "#### Rotation autour de X\n",
    "$$\n",
    "\\mathtt{R}_x(\\theta) = \n",
    "\\begin{pmatrix}\n",
    "\\cos(\\theta/2) & -i\\sin(\\theta/2)\\\\\n",
    "-i\\sin(\\theta/2) & \\cos(\\theta/2)\n",
    "\\end{pmatrix} = u(\\theta, -\\pi/2,\\pi/2)\n",
    "$$"
   ]
  },
  {
   "cell_type": "code",
   "execution_count": 28,
   "metadata": {
    "execution": {
     "iopub.execute_input": "2024-06-05T11:56:52.740862Z",
     "iopub.status.busy": "2024-06-05T11:56:52.740234Z",
     "iopub.status.idle": "2024-06-05T11:56:52.973435Z",
     "shell.execute_reply": "2024-06-05T11:56:52.972237Z",
     "shell.execute_reply.started": "2024-06-05T11:56:52.740812Z"
    }
   },
   "outputs": [
    {
     "data": {
      "image/png": "[encoded data removed]",
      "text/plain": [
       "<Figure size 185.453x117.056 with 1 Axes>"
      ]
     },
     "execution_count": 28,
     "metadata": {},
     "output_type": "execute_result"
    }
   ],
   "source": [
    "from qiskit.circuit import Parameter\n",
    "from qiskit.quantum_info import Operator\n",
    "\n",
    "pqc = QuantumCircuit(1)\n",
    "\n",
    "x = Parameter('$\\\\theta$')\n",
    "pqc.rx(x, 0)\n",
    "pqc.draw('mpl')\n",
    "\n"
   ]
  },
  {
   "cell_type": "code",
   "execution_count": 29,
   "metadata": {
    "execution": {
     "iopub.execute_input": "2024-06-05T11:56:52.975852Z",
     "iopub.status.busy": "2024-06-05T11:56:52.975003Z",
     "iopub.status.idle": "2024-06-05T11:56:52.982121Z",
     "shell.execute_reply": "2024-06-05T11:56:52.980775Z",
     "shell.execute_reply.started": "2024-06-05T11:56:52.975796Z"
    }
   },
   "outputs": [],
   "source": [
    "pqc2 = pqc.assign_parameters({x:pi})"
   ]
  },
  {
   "cell_type": "code",
   "execution_count": 30,
   "metadata": {
    "execution": {
     "iopub.execute_input": "2024-06-05T11:56:52.984449Z",
     "iopub.status.busy": "2024-06-05T11:56:52.983925Z",
     "iopub.status.idle": "2024-06-05T11:56:53.088931Z",
     "shell.execute_reply": "2024-06-05T11:56:53.087667Z",
     "shell.execute_reply.started": "2024-06-05T11:56:52.984400Z"
    }
   },
   "outputs": [
    {
     "data": {
      "text/latex": [
       "$$\n",
       "\n",
       "\\begin{bmatrix}\n",
       "0 & - i  \\\\\n",
       " - i & 0  \\\\\n",
       " \\end{bmatrix}\n",
       "$$"
      ],
      "text/plain": [
       "<IPython.core.display.Latex object>"
      ]
     },
     "execution_count": 30,
     "metadata": {},
     "output_type": "execute_result"
    }
   ],
   "source": [
    "op = Operator(pqc2)\n",
    "#op.to_sympy()\n",
    "array_to_latex(op.to_matrix())"
   ]
  },
  {
   "cell_type": "code",
   "execution_count": 31,
   "metadata": {
    "execution": {
     "iopub.execute_input": "2024-06-05T11:56:53.090562Z",
     "iopub.status.busy": "2024-06-05T11:56:53.090148Z",
     "iopub.status.idle": "2024-06-05T11:57:05.294610Z",
     "shell.execute_reply": "2024-06-05T11:57:05.293038Z",
     "shell.execute_reply.started": "2024-06-05T11:56:53.090529Z"
    }
   },
   "outputs": [
    {
     "name": "stdout",
     "output_type": "stream",
     "text": [
      "\u001b[33mWARNING: Retrying (Retry(total=4, connect=None, read=None, redirect=None, status=None)) after connection broken by 'NewConnectionError('<pip._vendor.urllib3.connection.HTTPSConnection object at 0x73604fb34730>: Failed to establish a new connection: [Errno -2] Nom ou service inconnu')': /simple/qiskit-symb/\u001b[0m\u001b[33m\n",
      "\u001b[0m\u001b[33mWARNING: Retrying (Retry(total=3, connect=None, read=None, redirect=None, status=None)) after connection broken by 'NewConnectionError('<pip._vendor.urllib3.connection.HTTPSConnection object at 0x73604fc99120>: Failed to establish a new connection: [Errno -2] Nom ou service inconnu')': /simple/qiskit-symb/\u001b[0m\u001b[33m\n",
      "\u001b[0m\u001b[33mWARNING: Retrying (Retry(total=2, connect=None, read=None, redirect=None, status=None)) after connection broken by 'NewConnectionError('<pip._vendor.urllib3.connection.HTTPSConnection object at 0x73604fc9aad0>: Failed to establish a new connection: [Errno -2] Nom ou service inconnu')': /simple/qiskit-symb/\u001b[0m\u001b[33m\n",
      "\u001b[0m\u001b[33mWARNING: Retrying (Retry(total=1, connect=None, read=None, redirect=None, status=None)) after connection broken by 'NewConnectionError('<pip._vendor.urllib3.connection.HTTPSConnection object at 0x73604fb34970>: Failed to establish a new connection: [Errno -2] Nom ou service inconnu')': /simple/qiskit-symb/\u001b[0m\u001b[33m\n",
      "\u001b[0m\u001b[33mWARNING: Retrying (Retry(total=0, connect=None, read=None, redirect=None, status=None)) after connection broken by 'NewConnectionError('<pip._vendor.urllib3.connection.HTTPSConnection object at 0x73604fb34c10>: Failed to establish a new connection: [Errno -2] Nom ou service inconnu')': /simple/qiskit-symb/\u001b[0m\u001b[33m\n",
      "\u001b[0m\u001b[31mERROR: Could not find a version that satisfies the requirement qiskit_symb (from versions: none)\u001b[0m\u001b[31m\n",
      "\u001b[0m\u001b[31mERROR: No matching distribution found for qiskit_symb\u001b[0m\u001b[31m\n",
      "\u001b[0m"
     ]
    }
   ],
   "source": [
    "#pour qu'Operator tienne compte des paramètres\n",
    "!pip install qiskit_symb"
   ]
  },
  {
   "cell_type": "code",
   "execution_count": null,
   "metadata": {},
   "outputs": [],
   "source": []
  },
  {
   "cell_type": "code",
   "execution_count": 32,
   "metadata": {
    "ExecuteTime": {
     "end_time": "2021-07-31T05:11:43.968605Z",
     "start_time": "2021-07-31T05:11:43.963670Z"
    },
    "execution": {
     "iopub.execute_input": "2024-06-05T11:57:05.298129Z",
     "iopub.status.busy": "2024-06-05T11:57:05.297520Z",
     "iopub.status.idle": "2024-06-05T11:57:05.501600Z",
     "shell.execute_reply": "2024-06-05T11:57:05.500391Z",
     "shell.execute_reply.started": "2024-06-05T11:57:05.298071Z"
    }
   },
   "outputs": [
    {
     "data": {
      "image/png": "[encoded data removed]",
      "text/plain": [
       "<Figure size 203.683x117.056 with 1 Axes>"
      ]
     },
     "execution_count": 32,
     "metadata": {},
     "output_type": "execute_result"
    }
   ],
   "source": [
    "qc = QuantumCircuit(q)\n",
    "qc.rx(pi/2,q)\n",
    "qc.draw('mpl')"
   ]
  },
  {
   "cell_type": "code",
   "execution_count": 33,
   "metadata": {
    "ExecuteTime": {
     "end_time": "2021-07-31T05:11:47.140262Z",
     "start_time": "2021-07-31T05:11:47.128900Z"
    },
    "execution": {
     "iopub.execute_input": "2024-06-05T11:57:05.503731Z",
     "iopub.status.busy": "2024-06-05T11:57:05.503126Z",
     "iopub.status.idle": "2024-06-05T11:57:05.762935Z",
     "shell.execute_reply": "2024-06-05T11:57:05.761950Z",
     "shell.execute_reply.started": "2024-06-05T11:57:05.503682Z"
    }
   },
   "outputs": [
    {
     "data": {
      "text/latex": [
       "$$\n",
       "\n",
       "\\begin{bmatrix}\n",
       "0.707 & - 0.707 i  \\\\\n",
       " - 0.707 i & 0.707  \\\\\n",
       " \\end{bmatrix}\n",
       "$$"
      ],
      "text/plain": [
       "<IPython.core.display.Latex object>"
      ]
     },
     "execution_count": 33,
     "metadata": {},
     "output_type": "execute_result"
    }
   ],
   "source": [
    "job = simulator.run(transpile(qc, simulator))\n",
    "array_to_latex(job.result().get_unitary(qc, decimals=3))"
   ]
  },
  {
   "attachments": {},
   "cell_type": "markdown",
   "metadata": {},
   "source": [
    "#### Rotation autour de Y\n",
    "$$\n",
    "\\mathtt{R}_y(\\theta) =\n",
    "\\begin{pmatrix}\n",
    "\\cos(\\theta/2) & - \\sin(\\theta/2)\\\\\n",
    "\\sin(\\theta/2) & \\cos(\\theta/2)\n",
    "\\end{pmatrix} =u(\\theta,0,0).\n",
    "$$"
   ]
  },
  {
   "cell_type": "code",
   "execution_count": 34,
   "metadata": {
    "ExecuteTime": {
     "end_time": "2021-07-31T05:11:48.483090Z",
     "start_time": "2021-07-31T05:11:48.477062Z"
    },
    "execution": {
     "iopub.execute_input": "2024-06-05T11:57:05.764966Z",
     "iopub.status.busy": "2024-06-05T11:57:05.764510Z",
     "iopub.status.idle": "2024-06-05T11:57:05.930005Z",
     "shell.execute_reply": "2024-06-05T11:57:05.928792Z",
     "shell.execute_reply.started": "2024-06-05T11:57:05.764931Z"
    }
   },
   "outputs": [
    {
     "data": {
      "image/png": "[encoded data removed]",
      "text/plain": [
       "<Figure size 203.683x117.056 with 1 Axes>"
      ]
     },
     "execution_count": 34,
     "metadata": {},
     "output_type": "execute_result"
    }
   ],
   "source": [
    "qc = QuantumCircuit(q)\n",
    "qc.ry(pi/2,q)\n",
    "qc.draw('mpl')"
   ]
  },
  {
   "cell_type": "code",
   "execution_count": 35,
   "metadata": {
    "ExecuteTime": {
     "end_time": "2021-07-31T05:11:51.011307Z",
     "start_time": "2021-07-31T05:11:51.001011Z"
    },
    "execution": {
     "iopub.execute_input": "2024-06-05T11:57:05.932250Z",
     "iopub.status.busy": "2024-06-05T11:57:05.931693Z",
     "iopub.status.idle": "2024-06-05T11:57:06.060603Z",
     "shell.execute_reply": "2024-06-05T11:57:06.059361Z",
     "shell.execute_reply.started": "2024-06-05T11:57:05.932197Z"
    }
   },
   "outputs": [
    {
     "data": {
      "text/latex": [
       "$$\n",
       "\n",
       "\\begin{bmatrix}\n",
       "0.707 & -0.707  \\\\\n",
       " 0.707 & 0.707  \\\\\n",
       " \\end{bmatrix}\n",
       "$$"
      ],
      "text/plain": [
       "<IPython.core.display.Latex object>"
      ]
     },
     "execution_count": 35,
     "metadata": {},
     "output_type": "execute_result"
    }
   ],
   "source": [
    "job = simulator.run(transpile(qc, simulator))\n",
    "array_to_latex(job.result().get_unitary(qc, decimals=3))"
   ]
  },
  {
   "attachments": {},
   "cell_type": "markdown",
   "metadata": {},
   "source": [
    "#### Rotation autour de  Z\n",
    "$$\n",
    "\\mathtt{R}_z(\\phi) = \n",
    "\\begin{pmatrix}\n",
    "e^{-i \\phi/2} & 0 \\\\\n",
    "0 & e^{i \\phi/2}\n",
    "\\end{pmatrix}\\equiv p(\\phi).\n",
    "$$\n",
    "Notez qu'ici nous avons utilisé un équivalent car il est différent de $p$ par une phase globale $e^{-i \\phi/2}$."
   ]
  },
  {
   "cell_type": "code",
   "execution_count": 36,
   "metadata": {
    "ExecuteTime": {
     "end_time": "2021-07-31T05:11:51.729618Z",
     "start_time": "2021-07-31T05:11:51.724574Z"
    },
    "execution": {
     "iopub.execute_input": "2024-06-05T11:57:06.062693Z",
     "iopub.status.busy": "2024-06-05T11:57:06.062151Z",
     "iopub.status.idle": "2024-06-05T11:57:06.243854Z",
     "shell.execute_reply": "2024-06-05T11:57:06.242675Z",
     "shell.execute_reply.started": "2024-06-05T11:57:06.062641Z"
    }
   },
   "outputs": [
    {
     "data": {
      "image/png": "[encoded data removed]",
      "text/plain": [
       "<Figure size 203.683x117.056 with 1 Axes>"
      ]
     },
     "execution_count": 36,
     "metadata": {},
     "output_type": "execute_result"
    }
   ],
   "source": [
    "qc = QuantumCircuit(q)\n",
    "qc.rz(pi/2,q)\n",
    "qc.draw('mpl')"
   ]
  },
  {
   "cell_type": "code",
   "execution_count": 37,
   "metadata": {
    "ExecuteTime": {
     "end_time": "2021-07-31T05:11:54.372720Z",
     "start_time": "2021-07-31T05:11:54.363623Z"
    },
    "execution": {
     "iopub.execute_input": "2024-06-05T11:57:06.246529Z",
     "iopub.status.busy": "2024-06-05T11:57:06.245717Z",
     "iopub.status.idle": "2024-06-05T11:57:06.328352Z",
     "shell.execute_reply": "2024-06-05T11:57:06.327126Z",
     "shell.execute_reply.started": "2024-06-05T11:57:06.246475Z"
    }
   },
   "outputs": [
    {
     "data": {
      "text/latex": [
       "$$\n",
       "\n",
       "\\begin{bmatrix}\n",
       "0.707 - 0.707 i & 0  \\\\\n",
       " 0 & 0.707 + 0.707 i  \\\\\n",
       " \\end{bmatrix}\n",
       "$$"
      ],
      "text/plain": [
       "<IPython.core.display.Latex object>"
      ]
     },
     "execution_count": 37,
     "metadata": {},
     "output_type": "execute_result"
    }
   ],
   "source": [
    "job = simulator.run(transpile(qc, simulator))\n",
    "array_to_latex(job.result().get_unitary(qc, decimals=3))"
   ]
  },
  {
   "attachments": {},
   "cell_type": "markdown",
   "metadata": {
    "lang": "fr"
   },
   "source": [
    "Notez que ceci est différent en raison uniquement d'une phase globale."
   ]
  },
  {
   "attachments": {},
   "cell_type": "markdown",
   "metadata": {},
   "source": [
    "## Do it yourself\n",
    "\n",
    "Écrire le code qiskit qui reproduit le circuit suivant\n",
    "\n",
    "![qkog](./Graphics/qkpg.png)\n"
   ]
  },
  {
   "attachments": {},
   "cell_type": "markdown",
   "metadata": {
    "lang": "fr"
   },
   "source": [
    "## Portes multi-qubits\n",
    "\n",
    "### Préliminaires mathématiques\n",
    "\n",
    "L'espace d'un calculateur quantique croît de manière exponentielle avec le nombre de qubits. Pour les qubits $n$, l'espace vectoriel complexe a la dimension $d=2^n$. Pour décrire les états d'un système multi-qubit, le produit tensoriel est utilisé pour \"coller ensemble\" les opérateurs et les vecteurs de base.\n",
    "\n",
    "Commençons par considérer un système à 2 qubits. Étant donné deux opérateurs $A$ et $B$ qui agissent chacun sur un qubit, l'opérateur conjoint $A \\otimes B$ agissant sur deux qubits est\n",
    "\\begin{equation}\n",
    "\tA\\otimes B = \n",
    "\t\\begin{pmatrix} \n",
    "\t\tA_{00} \\begin{pmatrix} \n",
    "\t\t\tB_{00} & B_{01} \\\\\n",
    "\t\t\tB_{10} & B_{11}\n",
    "\t\t\\end{pmatrix} & A_{01} \t\\begin{pmatrix} \n",
    "\t\t\t\tB_{00} & B_{01} \\\\\n",
    "\t\t\t\tB_{10} & B_{11}\n",
    "\t\t\t\\end{pmatrix} \\\\\n",
    "\t\tA_{10} \t\\begin{pmatrix} \n",
    "\t\t\t\t\tB_{00} & B_{01} \\\\\n",
    "\t\t\t\t\tB_{10} & B_{11}\n",
    "\t\t\t\t\\end{pmatrix} & A_{11} \t\\begin{pmatrix} \n",
    "\t\t\t\t\t\t\tB_{00} & B_{01} \\\\\n",
    "\t\t\t\t\t\t\tB_{10} & B_{11}\n",
    "\t\t\t\t\t\t\\end{pmatrix}\n",
    "\t\\end{pmatrix},\t\t\t\t\t\t\n",
    "\\end{equation}\n",
    "où $A_{jk}$ et $B_{lm}$ sont les éléments de matrice de $A$ et $B$, respectivement.\n",
    "\n",
    "De manière analogue, les vecteurs de base pour le système à 2 qubits sont formés à l'aide du produit tensoriel des vecteurs de base pour un seul qubit :\n",
    "\\begin{equation}\n",
    "\\begin{aligned}\n",
    "&\\ket{00} = \\begin{pmatrix} \n",
    "\t\t1 \\begin{pmatrix} \n",
    "\t\t\t1  \\\\\n",
    "\t\t\t0\n",
    "\t\t\\end{pmatrix} \\\\\n",
    "\t\t0 \\begin{pmatrix} \n",
    "\t\t\t1  \\\\\n",
    "\t\t\t0 \n",
    "\t\t\\end{pmatrix}\n",
    "\t\\end{pmatrix} = \\begin{pmatrix} 1 \\\\ 0 \\\\ 0 \\\\0 \\end{pmatrix},\n",
    "&\\ket{01} = \\begin{pmatrix} \n",
    "\t1 \\begin{pmatrix} \n",
    "\t0 \\\\\n",
    "\t1\n",
    "\t\\end{pmatrix} \\\\\n",
    "\t0 \\begin{pmatrix} \n",
    "\t0  \\\\\n",
    "\t1 \n",
    "\t\\end{pmatrix}\n",
    "\t\\end{pmatrix} = \\begin{pmatrix}0 \\\\ 1 \\\\ 0 \\\\ 0 \\end{pmatrix}.\n",
    "\\\\\n",
    "&\\ket{10} = \\begin{pmatrix} \n",
    "\t0\\begin{pmatrix} \n",
    "\t1  \\\\\n",
    "\t0\n",
    "\t\\end{pmatrix} \\\\\n",
    "\t1\\begin{pmatrix} \n",
    "\t1 \\\\\n",
    "\t0 \n",
    "\t\\end{pmatrix}\n",
    "\t\\end{pmatrix} = \\begin{pmatrix} 0 \\\\ 0 \\\\ 1 \\\\ 0 \\end{pmatrix},\n",
    "\t&\\ket{11} = \\begin{pmatrix} \n",
    "\t0 \\begin{pmatrix} \n",
    "\t0  \\\\\n",
    "\t1\n",
    "\t\\end{pmatrix} \\\\\n",
    "\t1\\begin{pmatrix} \n",
    "\t0  \\\\\n",
    "\t1 \n",
    "\t\\end{pmatrix}\n",
    "\t\\end{pmatrix} = \\begin{pmatrix} 0 \\\\ 0 \\\\ 0 \\\\1 \\end{pmatrix}.\n",
    "\\end{aligned}\n",
    "\\end{equation}\n",
    "\n",
    "Notez que nous avons introduit un raccourci pour le produit tensoriel des vecteurs de base, où $\\ket{0} \\otimes \\ket{0}$ s'écrit $\\ket{00}$. L'état d'un système $n$-qubit peut être décrit à l'aide du produit tenseur $n$ fois de vecteurs de base à un seul qubit. Notez que les vecteurs de base d'un système à 2 qubits sont en 4 dimensions. En général, les vecteurs de base d'un système $n$-qubit sont de dimension $2^n$, comme indiqué précédemment.\n",
    "\n",
    "### Ordre des vecteurs de base dans Qiskit\n",
    "\n",
    "Au sein de la communauté des physiciens, les qubits d'un système multi-qubit sont généralement ordonnés avec le premier qubit sur le côté le plus à gauche du produit tensoriel et le dernier qubit sur le côté le plus à droite. Par exemple, si le premier qubit est dans l'état $\\ket{0}$ et le second dans l'état $\\ket{1}$, leur état commun serait $\\ket{01}$. Qiskit utilise un ordre légèrement différent des qubits, dans lequel les qubits sont représentés du bit le plus significatif (MSB) à gauche au bit le moins significatif (LSB) à droite (little-endian). Ceci est similaire à la représentation des chaînes de bits sur les ordinateurs classiques et permet une conversion facile des chaînes de bits en nombres entiers une fois les mesures effectuées. Pour l'exemple qui vient d'être donné, l'état conjoint serait représenté par $\\ket{10}$. Il est important de noter que *ce changement dans la représentation des états multi-qubits affecte la manière dont les portes multi-qubits sont représentées dans Qiskit*, comme indiqué ci-dessous.\n",
    "\n",
    "La représentation utilisée dans Qiskit énumère les vecteurs de base dans l'ordre croissant des nombres entiers qu'ils représentent. Par exemple, les vecteurs de base pour un système à 2 qubits seraient classés comme $\\ket{00}$, $\\ket{01}$, $\\ket{10}$ et $\\ket{11}$. Considérant les vecteurs de base comme des chaînes de bits, ils codent respectivement les entiers 0, 1, 2 et 3.\n",
    "\n",
    "\n",
    "### Opérations contrôlées sur les qubits\n",
    "\n",
    "Une porte multi-qubit commune implique l'application d'une porte à un qubit, conditionnée par l'état d'un autre qubit. Par exemple, nous pourrions vouloir inverser l'état du deuxième qubit lorsque le premier qubit est dans $\\ket{0}$. Ces portes sont appelées _portes contrôlées_. Les portes multi-qubits standard se composent de portes à deux qubits et de portes à trois qubits. Les portes à deux qubits sont :\n",
    "- portes Pauli contrôlées\n",
    "- portail Hadamard contrôlé\n",
    "- portails à rotation contrôlée\n",
    "- porte de phase contrôlée\n",
    "- porte u3 contrôlée\n",
    "- porte d'échange\n",
    "\n",
    "Les portes à trois qubits sont :\n",
    "- Porte Toffoli\n",
    "- Porte Fredkin"
   ]
  },
  {
   "attachments": {},
   "cell_type": "markdown",
   "metadata": {
    "lang": "fr"
   },
   "source": [
    "## Portes à deux qubits \n",
    "\n",
    "La plupart des portes à deux qubits sont de type contrôlé (la porte SWAP étant l'exception). En général, une porte contrôlée à deux qubits $\\mathtt{CU}$ agit pour appliquer le $U$ unitaire à un seul qubit au deuxième qubit lorsque l'état du premier qubit est dans $\\ket{1}$. Supposons que $U$ ait une représentation matricielle\n",
    "\n",
    "$$U = \\begin{pmatrix} u_{00} & u_{01} \\\\ u_{10} & u_{11}\\end{pmatrix}.$$\n",
    "\n",
    "Nous pouvons calculer l'action de $\\mathtt{CU}$ comme suit. Rappelez-vous que les vecteurs de base pour un système à deux qubits sont ordonnés comme $\\ket{00}, \\ket{01}, \\ket{10}, \\ket{11}$. Supposons que le **qubit de contrôle** est **qubit 0** (qui, selon la convention de Qiskit, est l'un des côtés _droit_ du produit tensoriel). Si le qubit de contrôle est dans $\\ket{1}$, $U$ doit être appliqué à la **cible** (qubit 1, sur le côté _gauche_ du produit tensoriel). Donc, sous l'action de $\\mathtt{CU}$, les vecteurs de base sont transformés selon\n",
    "\n",
    "$$\\begin{align*}\n",
    "\\mathtt{CU}: \\underset{\\text{qubit}~1}{\\ket{0}}\\otimes \\underset{\\text{qubit}~0}{\\ket{0}} &\\rightarrow \\underset{\\text{qubit}~1}{\\ket{0}}\\otimes \\underset{\\text{qubit}~0}{\\ket{0}}\\\\\n",
    "\\mathtt{CU}: \\underset{\\text{qubit}~1}{\\ket{0}}\\otimes \\underset{\\text{qubit}~0}{\\ket{1}} &\\rightarrow \\underset{\\text{qubit}~1}{U\\ket{0}}\\otimes \\underset{\\text{qubit}~0}{\\ket{1}}\\\\\n",
    "\\mathtt{CU}: \\underset{\\text{qubit}~1}{\\ket{1}}\\otimes \\underset{\\text{qubit}~0}{\\ket{0}} &\\rightarrow \\underset{\\text{qubit}~1}{\\ket{1}}\\otimes \\underset{\\text{qubit}~0}{\\ket{0}}\\\\\n",
    "\\mathtt{CU}: \\underset{\\text{qubit}~1}{\\ket{1}}\\otimes \\underset{\\text{qubit}~0}{\\ket{1}} &\\rightarrow \\underset{\\text{qubit}~1}{U\\ket{1}}\\otimes \\underset{\\text{qubit}~0}{\\ket{1}}\\\\\n",
    "\\end{align*}.$$\n",
    "\n",
    "Sous forme matricielle, l'action de $\\mathtt{CU}$ est\n",
    "\n",
    "$$\\begin{equation}\n",
    "\t\\mathtt{C}_U = \\begin{pmatrix}\n",
    "\t1 & 0 & 0 & 0 \\\\\n",
    "\t0 & u_{00} & 0 & u_{01} \\\\\n",
    "\t0 & 0 & 1 & 0 \\\\\n",
    "\t0 & u_{10} &0 & u_{11}\n",
    "\t\t\\end{pmatrix}.\n",
    "\\end{equation}$$\n",
    "\n",
    "Pour calculer ces éléments de matrice, soit\n",
    "\n",
    "$$\\mathtt{C}_{(jk), (lm)} = \\left(\\underset{\\text{qubit}~1}{\\left\\langle j \\right|} \\otimes \\underset{\\text{qubit}~0}{\\left\\langle k \\right|}\\right) \\mathtt{CU} \\left(\\underset{\\text{qubit}~1}{\\left| l \\right\\rangle} \\otimes \\underset{\\text{qubit}~0}{\\left| m \\right\\rangle}\\right),$$\n",
    "\n",
    "calculez l'action de $\\mathtt{CU}$ (donnée ci-dessus) et calculez les produits internes.\n",
    "\n",
    "Comme le montrent les exemples ci-dessous, cette opération est implémentée dans Qiskit sous la forme `cu(q[0],q[1])`.\n",
    "\n",
    "\n",
    "Si **qubit 1 est le contrôle et qubit 0 est la cible**, alors les vecteurs de base sont transformés selon\n",
    "$$\\begin{align*}\n",
    "\\mathtt{CU}: \\underset{\\text{qubit}~1}{\\ket{0}}\\otimes \\underset{\\text{qubit}~0}{\\ket{0}} &\\rightarrow \\underset{\\text{qubit}~1}{\\ket{0}}\\otimes \\underset{\\text{qubit}~0}{\\ket{0}}\\\\\n",
    "\\mathtt{CU}: \\underset{\\text{qubit}~1}{\\ket{0}}\\otimes \\underset{\\text{qubit}~0}{\\ket{1}} &\\rightarrow \\underset{\\text{qubit}~1}{\\ket{0}}\\otimes \\underset{\\text{qubit}~0}{\\ket{1}}\\\\\n",
    "\\mathtt{CU}: \\underset{\\text{qubit}~1}{\\ket{1}}\\otimes \\underset{\\text{qubit}~0}{\\ket{0}} &\\rightarrow \\underset{\\text{qubit}~1}{\\ket{1}}\\otimes \\underset{\\text{qubit}~0}{U\\ket{0}}\\\\\n",
    "\\mathtt{CU}: \\underset{\\text{qubit}~1}{\\ket{1}}\\otimes \\underset{\\text{qubit}~0}{\\ket{1}} &\\rightarrow \\underset{\\text{qubit}~1}{\\ket{1}}\\otimes \\underset{\\text{qubit}~0}{U\\ket{1}}\\\\\n",
    "\\end{align*},$$\n",
    "\n",
    "\n",
    "ce qui implique que la forme matricielle de $\\mathtt{CU}$ est\n",
    "$$\\begin{equation}\n",
    "\t\\mathtt{C}_U = \\begin{pmatrix}\n",
    "\t1 & 0 & 0  & 0 \\\\\n",
    "\t0 & 1 & 0 & 0 \\\\\n",
    "\t0 & 0 & u_{00} & u_{01} \\\\\n",
    "\t0 & 0 & u_{10} & u_{11}\n",
    "\t\t\\end{pmatrix}.\n",
    "\\end{equation}$$"
   ]
  },
  {
   "cell_type": "code",
   "execution_count": 38,
   "metadata": {
    "ExecuteTime": {
     "end_time": "2021-07-31T05:11:57.864527Z",
     "start_time": "2021-07-31T05:11:57.861603Z"
    },
    "execution": {
     "iopub.execute_input": "2024-06-05T11:57:06.330562Z",
     "iopub.status.busy": "2024-06-05T11:57:06.329946Z",
     "iopub.status.idle": "2024-06-05T11:57:06.360651Z",
     "shell.execute_reply": "2024-06-05T11:57:06.359601Z",
     "shell.execute_reply.started": "2024-06-05T11:57:06.330513Z"
    }
   },
   "outputs": [],
   "source": [
    "q = QuantumRegister(2)"
   ]
  },
  {
   "attachments": {},
   "cell_type": "markdown",
   "metadata": {
    "lang": "fr"
   },
   "source": [
    "### Portes Pauli contrôlées\n",
    "\n",
    "#### Porte Contrôlée-X (ou, Contrôlée-NON)\n",
    "La porte Controlled-NOT retourne le qubit `target` lorsque le qubit de contrôle est dans l'état $\\ket{1}$. Si nous prenons le MSB comme qubit de contrôle (par exemple `cx(q[1],q[0])`), alors la matrice ressemblerait à\n",
    "\n",
    "$$\n",
    "\\mathtt{CX} = \n",
    "\\begin{pmatrix}\n",
    "1 & 0 & 0 & 0\\\\\n",
    "0 & 1 & 0 & 0\\\\\n",
    "0 & 0 & 0 & 1\\\\\n",
    "0 & 0 & 1 & 0\n",
    "\\end{pmatrix}. \n",
    "$$\n",
    "\n",
    "Cependant, lorsque le LSB est le qubit de contrôle (par exemple, `cx(q[0],q[1])`), cette porte est équivalente à la matrice suivante :\n",
    "\n",
    "$$\n",
    "\\mathtt{CX} = \n",
    "\\begin{pmatrix}\n",
    "1 & 0 & 0 & 0\\\\\n",
    "0 & 0 & 0 & 1\\\\\n",
    "0 & 0 & 1 & 0\\\\\n",
    "0 & 1 & 0 & 0\n",
    "\\end{pmatrix}. \n",
    "$$"
   ]
  },
  {
   "cell_type": "code",
   "execution_count": 39,
   "metadata": {
    "ExecuteTime": {
     "end_time": "2021-07-31T05:11:59.251955Z",
     "start_time": "2021-07-31T05:11:59.245837Z"
    },
    "execution": {
     "iopub.execute_input": "2024-06-05T11:57:06.362628Z",
     "iopub.status.busy": "2024-06-05T11:57:06.361940Z",
     "iopub.status.idle": "2024-06-05T11:57:06.636687Z",
     "shell.execute_reply": "2024-06-05T11:57:06.635645Z",
     "shell.execute_reply.started": "2024-06-05T11:57:06.362593Z"
    }
   },
   "outputs": [
    {
     "data": {
      "image/png": "[encoded data removed]",
      "text/plain": [
       "<Figure size 240.144x200.667 with 1 Axes>"
      ]
     },
     "execution_count": 39,
     "metadata": {},
     "output_type": "execute_result"
    }
   ],
   "source": [
    "qc = QuantumCircuit(q)\n",
    "qc.cx(q[0],q[1],ctrl_state='0')\n",
    "qc.draw('mpl')"
   ]
  },
  {
   "cell_type": "code",
   "execution_count": 40,
   "metadata": {
    "ExecuteTime": {
     "end_time": "2021-07-31T05:12:02.300793Z",
     "start_time": "2021-07-31T05:12:02.292637Z"
    },
    "execution": {
     "iopub.execute_input": "2024-06-05T11:57:06.638941Z",
     "iopub.status.busy": "2024-06-05T11:57:06.638417Z",
     "iopub.status.idle": "2024-06-05T11:57:06.688848Z",
     "shell.execute_reply": "2024-06-05T11:57:06.687716Z",
     "shell.execute_reply.started": "2024-06-05T11:57:06.638893Z"
    }
   },
   "outputs": [
    {
     "data": {
      "text/latex": [
       "$$\n",
       "\n",
       "\\begin{bmatrix}\n",
       "0 & 0 & 1 & 0  \\\\\n",
       " 0 & 1 & 0 & 0  \\\\\n",
       " 1 & 0 & 0 & 0  \\\\\n",
       " 0 & 0 & 0 & 1  \\\\\n",
       " \\end{bmatrix}\n",
       "$$"
      ],
      "text/plain": [
       "<IPython.core.display.Latex object>"
      ]
     },
     "execution_count": 40,
     "metadata": {},
     "output_type": "execute_result"
    }
   ],
   "source": [
    "job = simulator.run(transpile(qc, simulator))\n",
    "array_to_latex(job.result().get_unitary(qc, decimals=3))"
   ]
  },
  {
   "attachments": {},
   "cell_type": "markdown",
   "metadata": {
    "lang": "fr"
   },
   "source": [
    "#### Porte $Y$ contrôlée\n",
    "\n",
    "Appliquez la porte $Y$ au qubit cible si le qubit de contrôle est le MSB\n",
    "\n",
    "$$\n",
    "\\mathtt{CY} = \n",
    "\\begin{pmatrix}\n",
    "1 & 0 & 0 & 0\\\\\n",
    "0 & 1 & 0 & 0\\\\\n",
    "0 & 0 & 0 & -i\\\\\n",
    "0 & 0 & i & 0\n",
    "\\end{pmatrix},\n",
    "$$\n",
    "\n",
    "ou lorsque le LSB est le contrôle\n",
    "\n",
    "$$\n",
    "\\mathtt{CY} = \n",
    "\\begin{pmatrix}\n",
    "1 & 0 & 0 & 0\\\\\n",
    "0 & 0 & 0 & -i\\\\\n",
    "0 & 0 & 1 & 0\\\\\n",
    "0 & i & 0 & 0\n",
    "\\end{pmatrix}.\n",
    "$$"
   ]
  },
  {
   "cell_type": "code",
   "execution_count": 41,
   "metadata": {
    "ExecuteTime": {
     "end_time": "2021-07-31T05:12:04.293988Z",
     "start_time": "2021-07-31T05:12:04.285941Z"
    },
    "execution": {
     "iopub.execute_input": "2024-06-05T11:57:06.691204Z",
     "iopub.status.busy": "2024-06-05T11:57:06.690687Z",
     "iopub.status.idle": "2024-06-05T11:57:06.954594Z",
     "shell.execute_reply": "2024-06-05T11:57:06.953398Z",
     "shell.execute_reply.started": "2024-06-05T11:57:06.691156Z"
    }
   },
   "outputs": [
    {
     "data": {
      "image/png": "[encoded data removed]",
      "text/plain": [
       "<Figure size 240.144x200.667 with 1 Axes>"
      ]
     },
     "execution_count": 41,
     "metadata": {},
     "output_type": "execute_result"
    }
   ],
   "source": [
    "qc = QuantumCircuit(q)\n",
    "qc.cy(q[0],q[1])\n",
    "qc.draw('mpl')"
   ]
  },
  {
   "cell_type": "code",
   "execution_count": 42,
   "metadata": {
    "ExecuteTime": {
     "end_time": "2021-07-31T05:12:07.042556Z",
     "start_time": "2021-07-31T05:12:07.031367Z"
    },
    "execution": {
     "iopub.execute_input": "2024-06-05T11:57:06.956929Z",
     "iopub.status.busy": "2024-06-05T11:57:06.956354Z",
     "iopub.status.idle": "2024-06-05T11:57:06.995057Z",
     "shell.execute_reply": "2024-06-05T11:57:06.993940Z",
     "shell.execute_reply.started": "2024-06-05T11:57:06.956878Z"
    }
   },
   "outputs": [
    {
     "data": {
      "text/latex": [
       "$$\n",
       "\n",
       "\\begin{bmatrix}\n",
       "1 & 0 & 0 & 0  \\\\\n",
       " 0 & 0 & 0 & - i  \\\\\n",
       " 0 & 0 & 1 & 0  \\\\\n",
       " 0 & i & 0 & 0  \\\\\n",
       " \\end{bmatrix}\n",
       "$$"
      ],
      "text/plain": [
       "<IPython.core.display.Latex object>"
      ]
     },
     "execution_count": 42,
     "metadata": {},
     "output_type": "execute_result"
    }
   ],
   "source": [
    "job = simulator.run(transpile(qc, simulator))\n",
    "array_to_latex(job.result().get_unitary(qc, decimals=3))"
   ]
  },
  {
   "attachments": {},
   "cell_type": "markdown",
   "metadata": {
    "lang": "fr"
   },
   "source": [
    "#### Porte $Z$ contrôlée (ou Phase-Flip contrôlée)\n",
    "\n",
    "De même, la porte Z contrôlée inverse la phase du qubit cible si le qubit de contrôle est $\\ket{1}$. La matrice a la même apparence, que le MSB ou le LSB soit le qubit de contrôle :\n",
    "\n",
    "$$\n",
    "\\mathtt{CZ} = \n",
    "\\begin{pmatrix}\n",
    "1 & 0 & 0 & 0\\\\\n",
    "0 & 1 & 0 & 0\\\\\n",
    "0 & 0 & 1 & 0\\\\\n",
    "0 & 0 & 0 & -1\n",
    "\\end{pmatrix}\n",
    "$$"
   ]
  },
  {
   "cell_type": "code",
   "execution_count": 43,
   "metadata": {
    "ExecuteTime": {
     "end_time": "2021-07-31T05:12:08.397786Z",
     "start_time": "2021-07-31T05:12:08.392065Z"
    },
    "execution": {
     "iopub.execute_input": "2024-06-05T11:57:06.997636Z",
     "iopub.status.busy": "2024-06-05T11:57:06.996607Z",
     "iopub.status.idle": "2024-06-05T11:57:07.280330Z",
     "shell.execute_reply": "2024-06-05T11:57:07.279292Z",
     "shell.execute_reply.started": "2024-06-05T11:57:06.997579Z"
    }
   },
   "outputs": [
    {
     "data": {
      "image/png": "[encoded data removed]",
      "text/plain": [
       "<Figure size 240.144x200.667 with 1 Axes>"
      ]
     },
     "execution_count": 43,
     "metadata": {},
     "output_type": "execute_result"
    }
   ],
   "source": [
    "qc = QuantumCircuit(q)\n",
    "qc.cz(q[0],q[1])\n",
    "qc.draw('mpl')"
   ]
  },
  {
   "cell_type": "code",
   "execution_count": 44,
   "metadata": {
    "ExecuteTime": {
     "end_time": "2021-07-31T05:12:10.259460Z",
     "start_time": "2021-07-31T05:12:10.246478Z"
    },
    "execution": {
     "iopub.execute_input": "2024-06-05T11:57:07.282442Z",
     "iopub.status.busy": "2024-06-05T11:57:07.281824Z",
     "iopub.status.idle": "2024-06-05T11:57:07.319298Z",
     "shell.execute_reply": "2024-06-05T11:57:07.318038Z",
     "shell.execute_reply.started": "2024-06-05T11:57:07.282390Z"
    }
   },
   "outputs": [
    {
     "data": {
      "text/latex": [
       "$$\n",
       "\n",
       "\\begin{bmatrix}\n",
       "1 & 0 & 0 & 0  \\\\\n",
       " 0 & 1 & 0 & 0  \\\\\n",
       " 0 & 0 & 1 & 0  \\\\\n",
       " 0 & 0 & 0 & -1  \\\\\n",
       " \\end{bmatrix}\n",
       "$$"
      ],
      "text/plain": [
       "<IPython.core.display.Latex object>"
      ]
     },
     "execution_count": 44,
     "metadata": {},
     "output_type": "execute_result"
    }
   ],
   "source": [
    "job = simulator.run(transpile(qc, simulator))\n",
    "array_to_latex(job.result().get_unitary(qc, decimals=3))"
   ]
  },
  {
   "attachments": {},
   "cell_type": "markdown",
   "metadata": {
    "lang": "fr"
   },
   "source": [
    "### Porte Hadamard contrôlée\n",
    "\n",
    "Appliquez la porte $H$ au qubit cible si le qubit de contrôle est $\\ket{1}$. Ci-dessous, le cas où le contrôle est le qubit LSB.\n",
    "\n",
    "$$\n",
    "\\mathtt{CH} = \n",
    "\\begin{pmatrix}\n",
    "1 & 0 & 0 & 0\\\\\n",
    "0 & \\frac{1}{\\sqrt{2}} & 0 & \\frac{1}{\\sqrt{2}}\\\\\n",
    "0 & 0 & 1 & 0\\\\\n",
    "0 & \\frac{1}{\\sqrt{2}}  & 0& -\\frac{1}{\\sqrt{2}}\n",
    "\\end{pmatrix}\n",
    "$$"
   ]
  },
  {
   "cell_type": "code",
   "execution_count": 45,
   "metadata": {
    "ExecuteTime": {
     "end_time": "2021-07-31T05:12:11.524751Z",
     "start_time": "2021-07-31T05:12:11.518946Z"
    },
    "execution": {
     "iopub.execute_input": "2024-06-05T11:57:07.321658Z",
     "iopub.status.busy": "2024-06-05T11:57:07.321111Z",
     "iopub.status.idle": "2024-06-05T11:57:07.567656Z",
     "shell.execute_reply": "2024-06-05T11:57:07.566498Z",
     "shell.execute_reply.started": "2024-06-05T11:57:07.321607Z"
    }
   },
   "outputs": [
    {
     "data": {
      "image/png": "[encoded data removed]",
      "text/plain": [
       "<Figure size 240.144x200.667 with 1 Axes>"
      ]
     },
     "execution_count": 45,
     "metadata": {},
     "output_type": "execute_result"
    }
   ],
   "source": [
    "qc = QuantumCircuit(q)\n",
    "qc.ch(q[0],q[1])\n",
    "qc.draw('mpl')"
   ]
  },
  {
   "cell_type": "code",
   "execution_count": 46,
   "metadata": {
    "ExecuteTime": {
     "end_time": "2021-07-31T05:12:13.607426Z",
     "start_time": "2021-07-31T05:12:13.594156Z"
    },
    "execution": {
     "iopub.execute_input": "2024-06-05T11:57:07.570255Z",
     "iopub.status.busy": "2024-06-05T11:57:07.569334Z",
     "iopub.status.idle": "2024-06-05T11:57:07.896885Z",
     "shell.execute_reply": "2024-06-05T11:57:07.895705Z",
     "shell.execute_reply.started": "2024-06-05T11:57:07.570198Z"
    }
   },
   "outputs": [
    {
     "data": {
      "text/latex": [
       "$$\n",
       "\n",
       "\\begin{bmatrix}\n",
       "1 & 0 & 0 & 0  \\\\\n",
       " 0 & 0.707 & 0 & 0.707  \\\\\n",
       " 0 & 0 & 1 & 0  \\\\\n",
       " 0 & 0.707 & 0 & -0.707  \\\\\n",
       " \\end{bmatrix}\n",
       "$$"
      ],
      "text/plain": [
       "<IPython.core.display.Latex object>"
      ]
     },
     "execution_count": 46,
     "metadata": {},
     "output_type": "execute_result"
    }
   ],
   "source": [
    "job = simulator.run(transpile(qc, simulator))\n",
    "array_to_latex(job.result().get_unitary(qc, decimals=3))"
   ]
  },
  {
   "attachments": {},
   "cell_type": "markdown",
   "metadata": {
    "lang": "fr"
   },
   "source": [
    "### Portes à rotation contrôlée\n",
    "\n",
    "#### Rotation contrôlée autour de l'axe Z\n",
    "\n",
    "Effectuez une rotation autour de l'axe Z sur le qubit cible si le qubit de contrôle (ici LSB) est $\\ket{1}$.\n",
    "\n",
    "$$\n",
    "\\mathtt{CR}_z(\\lambda) = \n",
    "\\begin{pmatrix}\n",
    "1 & 0 & 0 & 0\\\\\n",
    "0 & e^{-i\\lambda/2} & 0 & 0\\\\\n",
    "0 & 0 & 1 & 0\\\\\n",
    "0 & 0 & 0 & e^{i\\lambda/2}\n",
    "\\end{pmatrix}\n",
    "$$"
   ]
  },
  {
   "cell_type": "code",
   "execution_count": 47,
   "metadata": {
    "ExecuteTime": {
     "end_time": "2021-07-31T05:12:14.970661Z",
     "start_time": "2021-07-31T05:12:14.961038Z"
    },
    "execution": {
     "iopub.execute_input": "2024-06-05T11:57:07.899513Z",
     "iopub.status.busy": "2024-06-05T11:57:07.898424Z",
     "iopub.status.idle": "2024-06-05T11:57:08.109183Z",
     "shell.execute_reply": "2024-06-05T11:57:08.108202Z",
     "shell.execute_reply.started": "2024-06-05T11:57:07.899458Z"
    }
   },
   "outputs": [
    {
     "data": {
      "image/png": "[encoded data removed]",
      "text/plain": [
       "<Figure size 240.144x200.667 with 1 Axes>"
      ]
     },
     "execution_count": 47,
     "metadata": {},
     "output_type": "execute_result"
    }
   ],
   "source": [
    "qc = QuantumCircuit(q)\n",
    "qc.crz(pi/2,q[0],q[1])\n",
    "qc.draw('mpl')"
   ]
  },
  {
   "cell_type": "code",
   "execution_count": 48,
   "metadata": {
    "ExecuteTime": {
     "end_time": "2021-07-31T05:12:17.186696Z",
     "start_time": "2021-07-31T05:12:17.171628Z"
    },
    "execution": {
     "iopub.execute_input": "2024-06-05T11:57:08.111285Z",
     "iopub.status.busy": "2024-06-05T11:57:08.110657Z",
     "iopub.status.idle": "2024-06-05T11:57:08.245994Z",
     "shell.execute_reply": "2024-06-05T11:57:08.244858Z",
     "shell.execute_reply.started": "2024-06-05T11:57:08.111234Z"
    }
   },
   "outputs": [
    {
     "data": {
      "text/latex": [
       "$$\n",
       "\n",
       "\\begin{bmatrix}\n",
       "1 & 0 & 0 & 0  \\\\\n",
       " 0 & 0.707 - 0.707 i & 0 & 0  \\\\\n",
       " 0 & 0 & 1 & 0  \\\\\n",
       " 0 & 0 & 0 & 0.707 + 0.707 i  \\\\\n",
       " \\end{bmatrix}\n",
       "$$"
      ],
      "text/plain": [
       "<IPython.core.display.Latex object>"
      ]
     },
     "execution_count": 48,
     "metadata": {},
     "output_type": "execute_result"
    }
   ],
   "source": [
    "job = simulator.run(transpile(qc, simulator))\n",
    "array_to_latex(job.result().get_unitary(qc, decimals=3))"
   ]
  },
  {
   "attachments": {},
   "cell_type": "markdown",
   "metadata": {
    "lang": "fr"
   },
   "source": [
    "### Rotation de phase contrôlée\n",
    "\n",
    "Effectuez une rotation de phase si les deux qubits sont dans l'état $\\ket{11}$. La matrice a la même apparence, que le MSB ou le LSB soit le qubit de contrôle.\n",
    "\n",
    "$$\n",
    "\\mathtt{CP}(\\lambda) = \n",
    "\\begin{pmatrix}\n",
    "1 & 0 & 0 & 0\\\\\n",
    "0 & 1 & 0 & 0\\\\\n",
    "0 & 0 & 1 & 0\\\\\n",
    "0 & 0 & 0 & e^{i\\lambda}\n",
    "\\end{pmatrix}\n",
    "$$"
   ]
  },
  {
   "cell_type": "code",
   "execution_count": 49,
   "metadata": {
    "ExecuteTime": {
     "end_time": "2021-07-31T05:12:36.826264Z",
     "start_time": "2021-07-31T05:12:36.820988Z"
    },
    "execution": {
     "iopub.execute_input": "2024-06-05T11:57:08.248498Z",
     "iopub.status.busy": "2024-06-05T11:57:08.247835Z",
     "iopub.status.idle": "2024-06-05T11:57:08.446943Z",
     "shell.execute_reply": "2024-06-05T11:57:08.445755Z",
     "shell.execute_reply.started": "2024-06-05T11:57:08.248446Z"
    }
   },
   "outputs": [
    {
     "data": {
      "image/png": "[encoded data removed]",
      "text/plain": [
       "<Figure size 323.756x200.667 with 1 Axes>"
      ]
     },
     "execution_count": 49,
     "metadata": {},
     "output_type": "execute_result"
    }
   ],
   "source": [
    "qc = QuantumCircuit(q)\n",
    "qc.cp(pi/2,q[0], q[1])\n",
    "qc.draw('mpl')"
   ]
  },
  {
   "cell_type": "code",
   "execution_count": 50,
   "metadata": {
    "ExecuteTime": {
     "end_time": "2021-07-31T05:12:39.234989Z",
     "start_time": "2021-07-31T05:12:39.222992Z"
    },
    "execution": {
     "iopub.execute_input": "2024-06-05T11:57:08.448790Z",
     "iopub.status.busy": "2024-06-05T11:57:08.448336Z",
     "iopub.status.idle": "2024-06-05T11:57:08.485840Z",
     "shell.execute_reply": "2024-06-05T11:57:08.484884Z",
     "shell.execute_reply.started": "2024-06-05T11:57:08.448757Z"
    }
   },
   "outputs": [
    {
     "data": {
      "text/latex": [
       "$$\n",
       "\n",
       "\\begin{bmatrix}\n",
       "1 & 0 & 0 & 0  \\\\\n",
       " 0 & 1 & 0 & 0  \\\\\n",
       " 0 & 0 & 1 & 0  \\\\\n",
       " 0 & 0 & 0 & i  \\\\\n",
       " \\end{bmatrix}\n",
       "$$"
      ],
      "text/plain": [
       "<IPython.core.display.Latex object>"
      ]
     },
     "execution_count": 50,
     "metadata": {},
     "output_type": "execute_result"
    }
   ],
   "source": [
    "job = simulator.run(transpile(qc, simulator))\n",
    "array_to_latex(job.result().get_unitary(qc, decimals=3))"
   ]
  },
  {
   "attachments": {},
   "cell_type": "markdown",
   "metadata": {
    "lang": "fr"
   },
   "source": [
    "### Rotation $u$ contrôlée\n",
    "\n",
    "Effectuez une rotation contrôlée-$u$ sur le qubit cible si le qubit de contrôle (ici LSB) est $\\ket{1}$.\n",
    "\n",
    "$$\n",
    "\\mathtt{CU}(\\theta, \\phi, \\lambda) \\equiv \n",
    "\\begin{pmatrix}\n",
    "1 & 0 & 0 & 0\\\\\n",
    "0 & e^{-i(\\phi+\\lambda)/2}\\cos(\\theta/2) & 0 & -e^{-i(\\phi-\\lambda)/2}\\sin(\\theta/2)\\\\\n",
    "0 & 0 & 1 & 0\\\\\n",
    "0 & e^{i(\\phi-\\lambda)/2}\\sin(\\theta/2) & 0 & e^{i(\\phi+\\lambda)/2}\\cos(\\theta/2)\n",
    "\\end{pmatrix}.\n",
    "$$"
   ]
  },
  {
   "cell_type": "code",
   "execution_count": 51,
   "metadata": {
    "ExecuteTime": {
     "end_time": "2021-07-31T05:13:19.155213Z",
     "start_time": "2021-07-31T05:13:19.148466Z"
    },
    "execution": {
     "iopub.execute_input": "2024-06-05T11:57:08.487594Z",
     "iopub.status.busy": "2024-06-05T11:57:08.487150Z",
     "iopub.status.idle": "2024-06-05T11:57:08.759582Z",
     "shell.execute_reply": "2024-06-05T11:57:08.758445Z",
     "shell.execute_reply.started": "2024-06-05T11:57:08.487562Z"
    }
   },
   "outputs": [
    {
     "data": {
      "image/png": "[encoded data removed]",
      "text/plain": [
       "<Figure size 323.756x200.667 with 1 Axes>"
      ]
     },
     "execution_count": 51,
     "metadata": {},
     "output_type": "execute_result"
    }
   ],
   "source": [
    "qc = QuantumCircuit(q)\n",
    "qc.cu(pi/2, pi/2, pi/2, 0, q[0], q[1])\n",
    "qc.draw('mpl')"
   ]
  },
  {
   "cell_type": "code",
   "execution_count": 52,
   "metadata": {
    "ExecuteTime": {
     "end_time": "2021-07-31T05:13:24.393740Z",
     "start_time": "2021-07-31T05:13:24.378958Z"
    },
    "execution": {
     "iopub.execute_input": "2024-06-05T11:57:08.761356Z",
     "iopub.status.busy": "2024-06-05T11:57:08.760877Z",
     "iopub.status.idle": "2024-06-05T11:57:08.890539Z",
     "shell.execute_reply": "2024-06-05T11:57:08.889361Z",
     "shell.execute_reply.started": "2024-06-05T11:57:08.761323Z"
    }
   },
   "outputs": [
    {
     "data": {
      "text/latex": [
       "$$\n",
       "\n",
       "\\begin{bmatrix}\n",
       "1 & 0 & 0 & 0  \\\\\n",
       " 0 & 0.707 & 0 & - 0.707 i  \\\\\n",
       " 0 & 0 & 1 & 0  \\\\\n",
       " 0 & 0.707 i & 0 & -0.707  \\\\\n",
       " \\end{bmatrix}\n",
       "$$"
      ],
      "text/plain": [
       "<IPython.core.display.Latex object>"
      ]
     },
     "execution_count": 52,
     "metadata": {},
     "output_type": "execute_result"
    }
   ],
   "source": [
    "job = simulator.run(transpile(qc, simulator))\n",
    "array_to_latex(job.result().get_unitary(qc, decimals=3))"
   ]
  },
  {
   "attachments": {},
   "cell_type": "markdown",
   "metadata": {
    "lang": "fr"
   },
   "source": [
    "### Portail SWAP\n",
    "\n",
    "La porte SWAP échange les deux qubits. Il transforme les vecteurs de base comme\n",
    "\n",
    "$$\\ket{00} \\rightarrow \\ket{00}~,~\\ket{01} \\rightarrow \\ket{10}~,~\\ket{10} \\rightarrow \\ket{01}~,~\\ket{11} \\rightarrow \\ket{11},$$\n",
    "\n",
    "qui donne une représentation matricielle de la forme\n",
    "\n",
    "$$\n",
    "\\mathrm{SWAP} = \n",
    "\\begin{pmatrix}\n",
    "1 & 0 & 0 & 0\\\\\n",
    "0 & 0 & 1 & 0\\\\\n",
    "0 & 1 & 0 & 0\\\\\n",
    "0 & 0 & 0 & 1\n",
    "\\end{pmatrix}.\n",
    "$$"
   ]
  },
  {
   "cell_type": "code",
   "execution_count": 53,
   "metadata": {
    "ExecuteTime": {
     "end_time": "2021-07-31T05:13:26.189896Z",
     "start_time": "2021-07-31T05:13:26.184311Z"
    },
    "execution": {
     "iopub.execute_input": "2024-06-05T11:57:08.892548Z",
     "iopub.status.busy": "2024-06-05T11:57:08.891895Z",
     "iopub.status.idle": "2024-06-05T11:57:09.065194Z",
     "shell.execute_reply": "2024-06-05T11:57:09.063940Z",
     "shell.execute_reply.started": "2024-06-05T11:57:08.892511Z"
    }
   },
   "outputs": [
    {
     "data": {
      "image/png": "[encoded data removed]",
      "text/plain": [
       "<Figure size 240.144x200.667 with 1 Axes>"
      ]
     },
     "execution_count": 53,
     "metadata": {},
     "output_type": "execute_result"
    }
   ],
   "source": [
    "qc = QuantumCircuit(q)\n",
    "qc.swap(q[0], q[1])\n",
    "qc.draw('mpl')"
   ]
  },
  {
   "cell_type": "code",
   "execution_count": 54,
   "metadata": {
    "ExecuteTime": {
     "end_time": "2021-07-31T05:13:28.555864Z",
     "start_time": "2021-07-31T05:13:28.545777Z"
    },
    "execution": {
     "iopub.execute_input": "2024-06-05T11:57:09.066894Z",
     "iopub.status.busy": "2024-06-05T11:57:09.066452Z",
     "iopub.status.idle": "2024-06-05T11:57:09.101740Z",
     "shell.execute_reply": "2024-06-05T11:57:09.100784Z",
     "shell.execute_reply.started": "2024-06-05T11:57:09.066859Z"
    }
   },
   "outputs": [
    {
     "data": {
      "text/latex": [
       "$$\n",
       "\n",
       "\\begin{bmatrix}\n",
       "1 & 0 & 0 & 0  \\\\\n",
       " 0 & 0 & 1 & 0  \\\\\n",
       " 0 & 1 & 0 & 0  \\\\\n",
       " 0 & 0 & 0 & 1  \\\\\n",
       " \\end{bmatrix}\n",
       "$$"
      ],
      "text/plain": [
       "<IPython.core.display.Latex object>"
      ]
     },
     "execution_count": 54,
     "metadata": {},
     "output_type": "execute_result"
    }
   ],
   "source": [
    "job = simulator.run(transpile(qc, simulator))\n",
    "array_to_latex(job.result().get_unitary(qc, decimals=3))"
   ]
  },
  {
   "attachments": {},
   "cell_type": "markdown",
   "metadata": {
    "lang": "fr"
   },
   "source": [
    "## Portes à trois qubits \n",
    "\n",
    "\n",
    "Il existe deux portes à trois qubits couramment utilisées. Pour trois qubits, les vecteurs de base sont ordonnés comme\n",
    "\n",
    "$$\\left|000\\right\\rangle, \\left|001\\right\\rangle, \\left|010\\right\\rangle, \\left|011\\right\\rangle, \\left|100\\right\\rangle, \\left|101\\right\\rangle, \\left|110\\right\\rangle, \\left|111\\right\\rangle,$$\n",
    "\n",
    "qui, sous forme de chaînes de bits, représentent les entiers $0,1,2,\\cdots, 7$. Encore une fois, Qiskit utilise une représentation dans laquelle le premier qubit est du côté le plus à droite du produit tensoriel et le troisième qubit est du côté le plus à gauche :\n",
    "\n",
    "$$\\left|abc\\right\\rangle : \\underset{\\text{qubit 2}}{\\left|a\\right\\rangle}\\otimes \\underset{\\text{qubit 1}}{\\left|b\\right\\rangle}\\otimes \\underset{\\text{qubit 0}}{\\left|c\\right\\rangle}.$$"
   ]
  },
  {
   "attachments": {},
   "cell_type": "markdown",
   "metadata": {
    "lang": "fr"
   },
   "source": [
    "### Porte Toffoli (porte $\\mathtt{CCX}$)\n",
    "\n",
    "La [porte de Toffoli](https://en.wikipedia.org/wiki/Quantum_logique_porte#Toffoli_(CCNOT)_porte) retourne le troisième qubit si les deux premiers qubits ( LSB) sont tous deux $\\ket{1}$ :\n",
    "\n",
    "$$\\left|abc\\right\\rangle \\rightarrow \\left|bc\\oplus a\\right\\rangle \\otimes \\left|b\\right\\rangle \\otimes \\left|c\\right\\rangle.$$\n",
    "\n",
    "Sous forme matricielle, la porte de Toffoli est\n",
    "$$\\mathtt{CCX} = \\begin{pmatrix}\n",
    "1 & 0 & 0 & 0 & 0 & 0 & 0 & 0\\\\\n",
    "0 & 1 & 0 & 0 & 0 & 0 & 0 & 0\\\\\n",
    "0 & 0 & 1 & 0 & 0 & 0 & 0 & 0\\\\\n",
    "0 & 0 & 0 & 0 & 0 & 0 & 0 & 1\\\\\n",
    "0 & 0 & 0 & 0 & 1 & 0 & 0 & 0\\\\\n",
    "0 & 0 & 0 & 0 & 0 & 1 & 0 & 0\\\\\n",
    "0 & 0 & 0 & 0 & 0 & 0 & 1 & 0\\\\\n",
    "0 & 0 & 0 & 1 & 0 & 0 & 0 & 0\n",
    "\\end{pmatrix}.$$"
   ]
  },
  {
   "cell_type": "code",
   "execution_count": 55,
   "metadata": {
    "ExecuteTime": {
     "end_time": "2021-07-31T05:13:31.317251Z",
     "start_time": "2021-07-31T05:13:31.314100Z"
    },
    "execution": {
     "iopub.execute_input": "2024-06-05T11:57:09.103473Z",
     "iopub.status.busy": "2024-06-05T11:57:09.103046Z",
     "iopub.status.idle": "2024-06-05T11:57:09.160941Z",
     "shell.execute_reply": "2024-06-05T11:57:09.159789Z",
     "shell.execute_reply.started": "2024-06-05T11:57:09.103440Z"
    }
   },
   "outputs": [],
   "source": [
    "q = QuantumRegister(3)"
   ]
  },
  {
   "cell_type": "code",
   "execution_count": 56,
   "metadata": {
    "ExecuteTime": {
     "end_time": "2021-07-31T05:13:31.638567Z",
     "start_time": "2021-07-31T05:13:31.633001Z"
    },
    "execution": {
     "iopub.execute_input": "2024-06-05T11:57:09.162616Z",
     "iopub.status.busy": "2024-06-05T11:57:09.162215Z",
     "iopub.status.idle": "2024-06-05T11:57:09.464616Z",
     "shell.execute_reply": "2024-06-05T11:57:09.463614Z",
     "shell.execute_reply.started": "2024-06-05T11:57:09.162586Z"
    }
   },
   "outputs": [
    {
     "data": {
      "image/png": "[encoded data removed]",
      "text/plain": [
       "<Figure size 240.548x284.278 with 1 Axes>"
      ]
     },
     "execution_count": 56,
     "metadata": {},
     "output_type": "execute_result"
    }
   ],
   "source": [
    "qc = QuantumCircuit(q)\n",
    "qc.ccx(q[0], q[1], q[2])\n",
    "qc.draw('mpl')"
   ]
  },
  {
   "cell_type": "code",
   "execution_count": 57,
   "metadata": {
    "ExecuteTime": {
     "end_time": "2021-07-31T05:13:33.704467Z",
     "start_time": "2021-07-31T05:13:33.686210Z"
    },
    "execution": {
     "iopub.execute_input": "2024-06-05T11:57:09.466535Z",
     "iopub.status.busy": "2024-06-05T11:57:09.466184Z",
     "iopub.status.idle": "2024-06-05T11:57:09.521458Z",
     "shell.execute_reply": "2024-06-05T11:57:09.520512Z",
     "shell.execute_reply.started": "2024-06-05T11:57:09.466504Z"
    }
   },
   "outputs": [
    {
     "data": {
      "text/latex": [
       "$$\n",
       "\n",
       "\\begin{bmatrix}\n",
       "1 & 0 & 0 & 0 & 0 & 0 & 0 & 0  \\\\\n",
       " 0 & 1 & 0 & 0 & 0 & 0 & 0 & 0  \\\\\n",
       " 0 & 0 & 1 & 0 & 0 & 0 & 0 & 0  \\\\\n",
       " 0 & 0 & 0 & 0 & 0 & 0 & 0 & 1  \\\\\n",
       " 0 & 0 & 0 & 0 & 1 & 0 & 0 & 0  \\\\\n",
       " 0 & 0 & 0 & 0 & 0 & 1 & 0 & 0  \\\\\n",
       " 0 & 0 & 0 & 0 & 0 & 0 & 1 & 0  \\\\\n",
       " 0 & 0 & 0 & 1 & 0 & 0 & 0 & 0  \\\\\n",
       " \\end{bmatrix}\n",
       "$$"
      ],
      "text/plain": [
       "<IPython.core.display.Latex object>"
      ]
     },
     "execution_count": 57,
     "metadata": {},
     "output_type": "execute_result"
    }
   ],
   "source": [
    "job = simulator.run(transpile(qc, simulator))\n",
    "array_to_latex(job.result().get_unitary(qc, decimals=3))"
   ]
  },
  {
   "attachments": {},
   "cell_type": "markdown",
   "metadata": {
    "lang": "fr"
   },
   "source": [
    "### Porte d'échange contrôlée (Fredkin Gate)\n",
    "\n",
    "La [porte Fredkin](https://en.wikipedia.org/wiki/Quantum_logique_porte#Fredkin_(CSWAP)_porte), ou la *porte d'échange contrôlée*, échange les deuxième et troisième qubits si le premier qubit (LSB) est $\\ket{1}$ :\n",
    "\n",
    "$$ \\left|abc\\right\\rangle \\rightarrow \\begin{cases} \\left|bac\\right\\rangle~~\\text{if}~c=1 \\cr \\left|abc\\right\\rangle~~\\text{if}~c=0 \\end{cases}.$$\n",
    "\n",
    "Sous forme matricielle, la porte de Fredkin est\n",
    "\n",
    "$$\n",
    "\\mathtt{C}_{\\mathrm{SWAP}} = \n",
    "\\begin{pmatrix}\n",
    "1 & 0 & 0 & 0 & 0 & 0 & 0 & 0\\\\\n",
    "0 & 1 & 0 & 0 & 0 & 0 & 0 & 0\\\\\n",
    "0 & 0 & 1 & 0 & 0 & 0 & 0 & 0\\\\\n",
    "0 & 0 & 0 & 0 & 0 & 1 & 0 & 0\\\\\n",
    "0 & 0 & 0 & 0 & 1 & 0 & 0 & 0\\\\\n",
    "0 & 0 & 0 & 1 & 0 & 0 & 0 & 0\\\\\n",
    "0 & 0 & 0 & 0 & 0 & 0 & 1 & 0\\\\\n",
    "0 & 0 & 0 & 0 & 0 & 0 & 0 & 1\n",
    "\\end{pmatrix}.\n",
    "$$"
   ]
  },
  {
   "cell_type": "code",
   "execution_count": 58,
   "metadata": {
    "ExecuteTime": {
     "end_time": "2021-07-31T05:13:35.557144Z",
     "start_time": "2021-07-31T05:13:35.551515Z"
    },
    "execution": {
     "iopub.execute_input": "2024-06-05T11:57:09.523310Z",
     "iopub.status.busy": "2024-06-05T11:57:09.522693Z",
     "iopub.status.idle": "2024-06-05T11:57:09.770518Z",
     "shell.execute_reply": "2024-06-05T11:57:09.769509Z",
     "shell.execute_reply.started": "2024-06-05T11:57:09.523275Z"
    }
   },
   "outputs": [
    {
     "data": {
      "image/png": "[encoded data removed]",
      "text/plain": [
       "<Figure size 240.548x284.278 with 1 Axes>"
      ]
     },
     "execution_count": 58,
     "metadata": {},
     "output_type": "execute_result"
    }
   ],
   "source": [
    "qc = QuantumCircuit(q)\n",
    "qc.cswap(q[0], q[1], q[2])\n",
    "qc.draw('mpl')"
   ]
  },
  {
   "cell_type": "code",
   "execution_count": 59,
   "metadata": {
    "ExecuteTime": {
     "end_time": "2021-07-31T05:13:38.233786Z",
     "start_time": "2021-07-31T05:13:38.215070Z"
    },
    "execution": {
     "iopub.execute_input": "2024-06-05T11:57:09.772268Z",
     "iopub.status.busy": "2024-06-05T11:57:09.771804Z",
     "iopub.status.idle": "2024-06-05T11:57:09.833522Z",
     "shell.execute_reply": "2024-06-05T11:57:09.832300Z",
     "shell.execute_reply.started": "2024-06-05T11:57:09.772234Z"
    }
   },
   "outputs": [
    {
     "data": {
      "text/latex": [
       "$$\n",
       "\n",
       "\\begin{bmatrix}\n",
       "1 & 0 & 0 & 0 & 0 & 0 & 0 & 0  \\\\\n",
       " 0 & 1 & 0 & 0 & 0 & 0 & 0 & 0  \\\\\n",
       " 0 & 0 & 1 & 0 & 0 & 0 & 0 & 0  \\\\\n",
       " 0 & 0 & 0 & 0 & 0 & 1 & 0 & 0  \\\\\n",
       " 0 & 0 & 0 & 0 & 1 & 0 & 0 & 0  \\\\\n",
       " 0 & 0 & 0 & 1 & 0 & 0 & 0 & 0  \\\\\n",
       " 0 & 0 & 0 & 0 & 0 & 0 & 1 & 0  \\\\\n",
       " 0 & 0 & 0 & 0 & 0 & 0 & 0 & 1  \\\\\n",
       " \\end{bmatrix}\n",
       "$$"
      ],
      "text/plain": [
       "<IPython.core.display.Latex object>"
      ]
     },
     "execution_count": 59,
     "metadata": {},
     "output_type": "execute_result"
    }
   ],
   "source": [
    "job = simulator.run(transpile(qc, simulator))\n",
    "array_to_latex(job.result().get_unitary(qc, decimals=3))"
   ]
  },
  {
   "attachments": {},
   "cell_type": "markdown",
   "metadata": {},
   "source": [
    "## Do it yourself\n",
    "\n",
    "Ecrire le code qiskit qui reproduit le circuit suivant\n",
    "\n",
    "![qkpg2](./Graphics/qkpg2.png)\n"
   ]
  },
  {
   "attachments": {},
   "cell_type": "markdown",
   "metadata": {
    "lang": "fr"
   },
   "source": [
    "## Opérations non unitaires\n",
    "\n",
    "Maintenant que nous avons parcouru toutes les opérations unitaires dans les circuits quantiques, nous avons également accès aux opérations non unitaires. Celles-ci incluent les mesures, la réinitialisation des qubits et les opérations conditionnelles classiques."
   ]
  },
  {
   "cell_type": "code",
   "execution_count": 60,
   "metadata": {
    "ExecuteTime": {
     "end_time": "2021-07-31T05:13:39.580221Z",
     "start_time": "2021-07-31T05:13:39.576248Z"
    },
    "execution": {
     "iopub.execute_input": "2024-06-05T11:57:09.835237Z",
     "iopub.status.busy": "2024-06-05T11:57:09.834809Z",
     "iopub.status.idle": "2024-06-05T11:57:09.894572Z",
     "shell.execute_reply": "2024-06-05T11:57:09.893375Z",
     "shell.execute_reply.started": "2024-06-05T11:57:09.835204Z"
    }
   },
   "outputs": [],
   "source": [
    "q = QuantumRegister(1)\n",
    "c = ClassicalRegister(1)"
   ]
  },
  {
   "attachments": {},
   "cell_type": "markdown",
   "metadata": {
    "lang": "fr"
   },
   "source": [
    "### Des mesures\n",
    "\n",
    "Nous n'avons pas accès à toutes les informations lorsque nous effectuons une mesure dans un calculateur quantique. L'état quantique est projeté sur la base standard. Ci-dessous, deux exemples montrant un circuit préparé dans un état de base et le calculateur quantique préparé dans un état de superposition."
   ]
  },
  {
   "cell_type": "code",
   "execution_count": 61,
   "metadata": {
    "ExecuteTime": {
     "end_time": "2021-07-31T05:13:40.203535Z",
     "start_time": "2021-07-31T05:13:40.197117Z"
    },
    "execution": {
     "iopub.execute_input": "2024-06-05T11:57:09.896276Z",
     "iopub.status.busy": "2024-06-05T11:57:09.895803Z",
     "iopub.status.idle": "2024-06-05T11:57:10.272753Z",
     "shell.execute_reply": "2024-06-05T11:57:10.271774Z",
     "shell.execute_reply.started": "2024-06-05T11:57:09.896243Z"
    }
   },
   "outputs": [
    {
     "data": {
      "image/png": "[encoded data removed]",
      "text/plain": [
       "<Figure size 222.318x200.667 with 1 Axes>"
      ]
     },
     "execution_count": 61,
     "metadata": {},
     "output_type": "execute_result"
    }
   ],
   "source": [
    "qc = QuantumCircuit(q, c)\n",
    "qc.measure(q, c)\n",
    "qc.draw('mpl')"
   ]
  },
  {
   "cell_type": "code",
   "execution_count": 62,
   "metadata": {
    "ExecuteTime": {
     "end_time": "2021-07-31T05:13:47.891765Z",
     "start_time": "2021-07-31T05:13:47.879060Z"
    },
    "execution": {
     "iopub.execute_input": "2024-06-05T11:57:10.274875Z",
     "iopub.status.busy": "2024-06-05T11:57:10.274264Z",
     "iopub.status.idle": "2024-06-05T11:57:10.312183Z",
     "shell.execute_reply": "2024-06-05T11:57:10.310923Z",
     "shell.execute_reply.started": "2024-06-05T11:57:10.274826Z"
    }
   },
   "outputs": [
    {
     "data": {
      "text/plain": [
       "{'0': 1024}"
      ]
     },
     "execution_count": 62,
     "metadata": {},
     "output_type": "execute_result"
    }
   ],
   "source": [
    "simulator = QasmSimulator()\n",
    "job = simulator.run(transpile(qc, simulator))\n",
    "job.result().get_counts(qc)"
   ]
  },
  {
   "attachments": {},
   "cell_type": "markdown",
   "metadata": {
    "lang": "fr"
   },
   "source": [
    "Le simulateur prédit que 100 % du temps, le registre classique renvoie 0."
   ]
  },
  {
   "cell_type": "code",
   "execution_count": 63,
   "metadata": {
    "ExecuteTime": {
     "end_time": "2021-07-31T05:13:49.501725Z",
     "start_time": "2021-07-31T05:13:49.495404Z"
    },
    "execution": {
     "iopub.execute_input": "2024-06-05T11:57:10.314349Z",
     "iopub.status.busy": "2024-06-05T11:57:10.313732Z",
     "iopub.status.idle": "2024-06-05T11:57:10.573848Z",
     "shell.execute_reply": "2024-06-05T11:57:10.572547Z",
     "shell.execute_reply.started": "2024-06-05T11:57:10.314300Z"
    }
   },
   "outputs": [
    {
     "data": {
      "image/png": "[encoded data removed]",
      "text/plain": [
       "<Figure size 305.929x200.667 with 1 Axes>"
      ]
     },
     "execution_count": 63,
     "metadata": {},
     "output_type": "execute_result"
    }
   ],
   "source": [
    "qc = QuantumCircuit(q, c)\n",
    "qc.h(q)\n",
    "qc.measure(q, c)\n",
    "qc.draw('mpl')"
   ]
  },
  {
   "cell_type": "code",
   "execution_count": 64,
   "metadata": {
    "ExecuteTime": {
     "end_time": "2021-07-31T05:13:51.913804Z",
     "start_time": "2021-07-31T05:13:51.902540Z"
    },
    "execution": {
     "iopub.execute_input": "2024-06-05T11:57:10.576033Z",
     "iopub.status.busy": "2024-06-05T11:57:10.575376Z",
     "iopub.status.idle": "2024-06-05T11:57:10.609981Z",
     "shell.execute_reply": "2024-06-05T11:57:10.608670Z",
     "shell.execute_reply.started": "2024-06-05T11:57:10.575983Z"
    }
   },
   "outputs": [
    {
     "data": {
      "text/plain": [
       "{'0': 512, '1': 512}"
      ]
     },
     "execution_count": 64,
     "metadata": {},
     "output_type": "execute_result"
    }
   ],
   "source": [
    "job = simulator.run(transpile(qc, simulator))\n",
    "job.result().get_counts(qc)"
   ]
  },
  {
   "attachments": {},
   "cell_type": "markdown",
   "metadata": {
    "lang": "fr"
   },
   "source": [
    "Le simulateur prédit que 50 % du temps, le registre classique renvoie 0 ou 1."
   ]
  },
  {
   "attachments": {},
   "cell_type": "markdown",
   "metadata": {
    "lang": "fr"
   },
   "source": [
    "### Réinitialiser\n",
    "Il est également possible de réinitialiser (`reset`) les qubits à l'état $\\ket{0}$ au milieu du calcul. Notez que `reset` n'est pas une opération porte, car elle est irréversible."
   ]
  },
  {
   "cell_type": "code",
   "execution_count": 65,
   "metadata": {
    "ExecuteTime": {
     "end_time": "2021-07-31T05:13:55.048748Z",
     "start_time": "2021-07-31T05:13:55.043325Z"
    },
    "execution": {
     "iopub.execute_input": "2024-06-05T11:57:10.613161Z",
     "iopub.status.busy": "2024-06-05T11:57:10.612619Z",
     "iopub.status.idle": "2024-06-05T11:57:10.925339Z",
     "shell.execute_reply": "2024-06-05T11:57:10.924227Z",
     "shell.execute_reply.started": "2024-06-05T11:57:10.613116Z"
    }
   },
   "outputs": [
    {
     "data": {
      "image/png": "[encoded data removed]",
      "text/plain": [
       "<Figure size 305.929x200.667 with 1 Axes>"
      ]
     },
     "execution_count": 65,
     "metadata": {},
     "output_type": "execute_result"
    }
   ],
   "source": [
    "qc = QuantumCircuit(q, c)\n",
    "qc.reset(q[0])\n",
    "qc.measure(q, c)\n",
    "qc.draw('mpl')"
   ]
  },
  {
   "cell_type": "code",
   "execution_count": 66,
   "metadata": {
    "ExecuteTime": {
     "end_time": "2021-07-31T05:13:57.317513Z",
     "start_time": "2021-07-31T05:13:57.305706Z"
    },
    "execution": {
     "iopub.execute_input": "2024-06-05T11:57:10.927814Z",
     "iopub.status.busy": "2024-06-05T11:57:10.927277Z",
     "iopub.status.idle": "2024-06-05T11:57:10.981810Z",
     "shell.execute_reply": "2024-06-05T11:57:10.980649Z",
     "shell.execute_reply.started": "2024-06-05T11:57:10.927763Z"
    }
   },
   "outputs": [
    {
     "data": {
      "text/plain": [
       "{'0': 1024}"
      ]
     },
     "execution_count": 66,
     "metadata": {},
     "output_type": "execute_result"
    }
   ],
   "source": [
    "job = simulator.run(transpile(qc, simulator))\n",
    "job.result().get_counts(qc)"
   ]
  },
  {
   "cell_type": "code",
   "execution_count": 67,
   "metadata": {
    "ExecuteTime": {
     "end_time": "2021-07-31T05:13:57.866910Z",
     "start_time": "2021-07-31T05:13:57.860240Z"
    },
    "execution": {
     "iopub.execute_input": "2024-06-05T11:57:10.983967Z",
     "iopub.status.busy": "2024-06-05T11:57:10.983341Z",
     "iopub.status.idle": "2024-06-05T11:57:11.265578Z",
     "shell.execute_reply": "2024-06-05T11:57:11.264154Z",
     "shell.execute_reply.started": "2024-06-05T11:57:10.983917Z"
    }
   },
   "outputs": [
    {
     "data": {
      "image/png": "[encoded data removed]",
      "text/plain": [
       "<Figure size 389.54x200.667 with 1 Axes>"
      ]
     },
     "execution_count": 67,
     "metadata": {},
     "output_type": "execute_result"
    }
   ],
   "source": [
    "qc = QuantumCircuit(q, c)\n",
    "qc.h(q)\n",
    "qc.reset(q[0])\n",
    "qc.measure(q, c)\n",
    "qc.draw('mpl')"
   ]
  },
  {
   "cell_type": "code",
   "execution_count": 68,
   "metadata": {
    "ExecuteTime": {
     "end_time": "2021-07-31T05:14:01.210349Z",
     "start_time": "2021-07-31T05:14:01.065350Z"
    },
    "execution": {
     "iopub.execute_input": "2024-06-05T11:57:11.268702Z",
     "iopub.status.busy": "2024-06-05T11:57:11.267584Z",
     "iopub.status.idle": "2024-06-05T11:57:11.322465Z",
     "shell.execute_reply": "2024-06-05T11:57:11.320968Z",
     "shell.execute_reply.started": "2024-06-05T11:57:11.268643Z"
    }
   },
   "outputs": [
    {
     "data": {
      "text/plain": [
       "{'0': 1024}"
      ]
     },
     "execution_count": 68,
     "metadata": {},
     "output_type": "execute_result"
    }
   ],
   "source": [
    "job = simulator.run(transpile(qc, simulator))\n",
    "job.result().get_counts(qc)"
   ]
  },
  {
   "attachments": {},
   "cell_type": "markdown",
   "metadata": {
    "lang": "fr"
   },
   "source": [
    "Ici, nous voyons que pour ces deux circuits, le simulateur prédit toujours que la sortie est de 100 % à l'état 0."
   ]
  },
  {
   "attachments": {},
   "cell_type": "markdown",
   "metadata": {
    "lang": "fr"
   },
   "source": [
    "### Opérations conditionnelles\n",
    "Il est également possible de faire des opérations conditionnées sur l'état du registre classique"
   ]
  },
  {
   "cell_type": "code",
   "execution_count": 69,
   "metadata": {
    "ExecuteTime": {
     "end_time": "2021-07-31T05:14:03.421890Z",
     "start_time": "2021-07-31T05:14:03.416090Z"
    },
    "execution": {
     "iopub.execute_input": "2024-06-05T11:57:11.325045Z",
     "iopub.status.busy": "2024-06-05T11:57:11.324541Z",
     "iopub.status.idle": "2024-06-05T11:57:11.625517Z",
     "shell.execute_reply": "2024-06-05T11:57:11.624518Z",
     "shell.execute_reply.started": "2024-06-05T11:57:11.324999Z"
    }
   },
   "outputs": [
    {
     "data": {
      "image/png": "[encoded data removed]",
      "text/plain": [
       "<Figure size 305.929x200.667 with 1 Axes>"
      ]
     },
     "execution_count": 69,
     "metadata": {},
     "output_type": "execute_result"
    }
   ],
   "source": [
    "qc = QuantumCircuit(q, c)\n",
    "qc.x(q[0]).c_if(c, 0)\n",
    "qc.measure(q,c)\n",
    "qc.draw('mpl')"
   ]
  },
  {
   "attachments": {},
   "cell_type": "markdown",
   "metadata": {
    "lang": "fr"
   },
   "source": [
    "Ici le bit classique prend toujours la valeur 0 donc l'état du qubit est toujours inversé."
   ]
  },
  {
   "cell_type": "code",
   "execution_count": 70,
   "metadata": {
    "ExecuteTime": {
     "end_time": "2021-07-31T05:14:05.763405Z",
     "start_time": "2021-07-31T05:14:05.753665Z"
    },
    "execution": {
     "iopub.execute_input": "2024-06-05T11:57:11.627280Z",
     "iopub.status.busy": "2024-06-05T11:57:11.626927Z",
     "iopub.status.idle": "2024-06-05T11:57:11.658939Z",
     "shell.execute_reply": "2024-06-05T11:57:11.657972Z",
     "shell.execute_reply.started": "2024-06-05T11:57:11.627250Z"
    }
   },
   "outputs": [
    {
     "data": {
      "text/plain": [
       "{'1': 1024}"
      ]
     },
     "execution_count": 70,
     "metadata": {},
     "output_type": "execute_result"
    }
   ],
   "source": [
    "job = simulator.run(transpile(qc, simulator))\n",
    "job.result().get_counts(qc)"
   ]
  },
  {
   "cell_type": "code",
   "execution_count": 71,
   "metadata": {
    "ExecuteTime": {
     "end_time": "2021-07-31T05:14:07.187387Z",
     "start_time": "2021-07-31T05:14:07.180366Z"
    },
    "execution": {
     "iopub.execute_input": "2024-06-05T11:57:11.662051Z",
     "iopub.status.busy": "2024-06-05T11:57:11.660473Z",
     "iopub.status.idle": "2024-06-05T11:57:12.086953Z",
     "shell.execute_reply": "2024-06-05T11:57:12.085831Z",
     "shell.execute_reply.started": "2024-06-05T11:57:11.661991Z"
    }
   },
   "outputs": [
    {
     "data": {
      "image/png": "[encoded data removed]",
      "text/plain": [
       "<Figure size 473.151x200.667 with 1 Axes>"
      ]
     },
     "execution_count": 71,
     "metadata": {},
     "output_type": "execute_result"
    }
   ],
   "source": [
    "qc = QuantumCircuit(q, c)\n",
    "qc.h(q)\n",
    "qc.measure(q,c)\n",
    "qc.x(q[0]).c_if(c, 0)\n",
    "qc.measure(q,c)\n",
    "qc.draw('mpl')"
   ]
  },
  {
   "cell_type": "code",
   "execution_count": 72,
   "metadata": {
    "execution": {
     "iopub.execute_input": "2024-06-05T11:57:12.089106Z",
     "iopub.status.busy": "2024-06-05T11:57:12.088573Z",
     "iopub.status.idle": "2024-06-05T11:57:12.096431Z",
     "shell.execute_reply": "2024-06-05T11:57:12.095067Z",
     "shell.execute_reply.started": "2024-06-05T11:57:12.089058Z"
    }
   },
   "outputs": [
    {
     "name": "stdout",
     "output_type": "stream",
     "text": [
      "Object `c_if` not found.\n"
     ]
    }
   ],
   "source": [
    "qc.x(q[0]).c_if??"
   ]
  },
  {
   "cell_type": "code",
   "execution_count": 73,
   "metadata": {
    "ExecuteTime": {
     "end_time": "2021-07-31T05:14:09.366351Z",
     "start_time": "2021-07-31T05:14:09.199972Z"
    },
    "execution": {
     "iopub.execute_input": "2024-06-05T11:57:12.098633Z",
     "iopub.status.busy": "2024-06-05T11:57:12.098041Z",
     "iopub.status.idle": "2024-06-05T11:57:12.251004Z",
     "shell.execute_reply": "2024-06-05T11:57:12.249673Z",
     "shell.execute_reply.started": "2024-06-05T11:57:12.098584Z"
    }
   },
   "outputs": [
    {
     "data": {
      "text/plain": [
       "{'1': 1024}"
      ]
     },
     "execution_count": 73,
     "metadata": {},
     "output_type": "execute_result"
    }
   ],
   "source": [
    "job = simulator.run(transpile(qc, simulator))\n",
    "job.result().get_counts(qc)"
   ]
  },
  {
   "attachments": {},
   "cell_type": "markdown",
   "metadata": {
    "lang": "fr"
   },
   "source": [
    "Ici, le bit classique de la première mesure est aléatoire, mais l'opération conditionnelle aboutit à ce que le qubit soit placé de manière déterministe dans $\\ket{1}$."
   ]
  },
  {
   "cell_type": "code",
   "execution_count": null,
   "metadata": {},
   "outputs": [],
   "source": []
  }
 ],
 "metadata": {
  "anaconda-cloud": {},
  "kernelspec": {
   "display_name": "Python 3 (ipykernel)",
   "language": "python",
   "name": "python3"
  },
  "language_info": {
   "codemirror_mode": {
    "name": "ipython",
    "version": 3
   },
   "file_extension": ".py",
   "mimetype": "text/x-python",
   "name": "python",
   "nbconvert_exporter": "python",
   "pygments_lexer": "ipython3",
   "version": "3.10.12"
  },
  "nbTranslate": {
   "displayLangs": [
    "*"
   ],
   "hotkey": "alt-t",
   "langInMainMenu": true,
   "sourceLang": "en",
   "targetLang": "fr",
   "useGoogleTranslate": true
  },
  "varInspector": {
   "cols": {
    "lenName": 16,
    "lenType": 16,
    "lenVar": 40
   },
   "kernels_config": {
    "python": {
     "delete_cmd_postfix": "",
     "delete_cmd_prefix": "del ",
     "library": "var_list.py",
     "varRefreshCmd": "print(var_dic_list())"
    },
    "r": {
     "delete_cmd_postfix": ") ",
     "delete_cmd_prefix": "rm(",
     "library": "var_list.r",
     "varRefreshCmd": "cat(var_dic_list()) "
    }
   },
   "types_to_exclude": [
    "module",
    "function",
    "builtin_function_or_method",
    "instance",
    "_Feature"
   ],
   "window_display": false
  }
 },
 "nbformat": 4,
 "nbformat_minor": 4
}
